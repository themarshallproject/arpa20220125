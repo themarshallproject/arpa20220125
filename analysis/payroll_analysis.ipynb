{
 "cells": [
  {
   "cell_type": "code",
   "execution_count": 2,
   "id": "ceramic-action",
   "metadata": {},
   "outputs": [],
   "source": [
    "import pandas as pd\n",
    "import matplotlib.pyplot as plt\n",
    "import seaborn as sns\n",
    "sns.set();\n",
    "\n",
    "import numpy"
   ]
  },
  {
   "cell_type": "code",
   "execution_count": 29,
   "id": "later-shuttle",
   "metadata": {},
   "outputs": [],
   "source": [
    "df = pd.read_excel(\"source_data/2021_individual_unit_files/21emp.xlsx\")"
   ]
  },
  {
   "cell_type": "code",
   "execution_count": 4,
   "id": "rational-benefit",
   "metadata": {},
   "outputs": [],
   "source": [
    "df_2020 = pd.read_excel(\"source_data/2020_individual_unit_files/20emp.xlsx\")"
   ]
  },
  {
   "cell_type": "code",
   "execution_count": 5,
   "id": "759e7c4d",
   "metadata": {},
   "outputs": [
    {
     "name": "stdout",
     "output_type": "stream",
     "text": [
      "<class 'pandas.core.frame.DataFrame'>\n",
      "RangeIndex: 83811 entries, 0 to 83810\n",
      "Data columns (total 22 columns):\n",
      " #   Column                               Non-Null Count  Dtype  \n",
      "---  ------                               --------------  -----  \n",
      " 0   State                                83811 non-null  object \n",
      " 1   Type of Government                   83811 non-null  object \n",
      " 2   Name of Government                   83811 non-null  object \n",
      " 3   Government Function                  83811 non-null  object \n",
      " 4   Full-time Employees                  83811 non-null  int64  \n",
      " 5   Full-time Employees Data Flag        83811 non-null  object \n",
      " 6   Full-time Payroll                    83811 non-null  int64  \n",
      " 7   Full-time Payroll Data Flag          83811 non-null  object \n",
      " 8   Part-time Employees                  83811 non-null  int64  \n",
      " 9   Part-time Employees Data Flag        83811 non-null  object \n",
      " 10  Part-time Payroll                    83811 non-null  int64  \n",
      " 11  Part-time Payroll Data Flag          83811 non-null  object \n",
      " 12  Individual Unit ID                   83811 non-null  int64  \n",
      " 13  Census Region                        83811 non-null  object \n",
      " 14  County Name                          82788 non-null  object \n",
      " 15  FIPS State                           83811 non-null  int64  \n",
      " 16  FIPS County                          82788 non-null  float64\n",
      " 17  Population/Enrollment/Function Code  83811 non-null  int64  \n",
      " 18  Year of Population/Enrollment        67001 non-null  float64\n",
      " 19  School Level                         10102 non-null  object \n",
      " 20  Probability of Selection             83811 non-null  float64\n",
      " 21  Worksheet Code                       83811 non-null  int64  \n",
      "dtypes: float64(3), int64(8), object(11)\n",
      "memory usage: 14.1+ MB\n"
     ]
    }
   ],
   "source": [
    "df_2020.info()"
   ]
  },
  {
   "cell_type": "code",
   "execution_count": 22,
   "id": "3bb1965d",
   "metadata": {},
   "outputs": [
    {
     "data": {
      "text/plain": [
       "array(['State', 'County', 'Municipality', 'Special District',\n",
       "       'Independent School District', 'Township'], dtype=object)"
      ]
     },
     "execution_count": 22,
     "metadata": {},
     "output_type": "execute_result"
    }
   ],
   "source": [
    "df_2020['Type of Government'].unique()"
   ]
  },
  {
   "cell_type": "code",
   "execution_count": 71,
   "id": "f7ea7f61",
   "metadata": {},
   "outputs": [
    {
     "data": {
      "text/plain": [
       "116672"
      ]
     },
     "execution_count": 71,
     "metadata": {},
     "output_type": "execute_result"
    }
   ],
   "source": [
    "# Population in Indep, MO:\n",
    "pop_indep= df_2021[(df_2021[\"State\"] == \"Missouri\")&(df_2021[\"Name of Government\"].str.contains(\"Independence\"))]\\\n",
    ".iloc[1][\"Population/Enrollment/Function Code\"].sum()\n",
    "pop_indep"
   ]
  },
  {
   "cell_type": "code",
   "execution_count": 68,
   "id": "7f133bbf",
   "metadata": {},
   "outputs": [
    {
     "data": {
      "text/plain": [
       "192"
      ]
     },
     "execution_count": 68,
     "metadata": {},
     "output_type": "execute_result"
    }
   ],
   "source": [
    "# Police officers in MO 2021:\n",
    "police_i = df_2021[(df_2021[\"Government Function\"] == \"Police Protection - Persons with Power of Arrest\")&\\\n",
    "(df_2021[\"State\"] == \"Missouri\")&(df_2021[\"Name of Government\"].str.contains(\"Independence\"))]\\\n",
    "[\"Full-time Employees\"].sum()\n",
    "police_i"
   ]
  },
  {
   "cell_type": "code",
   "execution_count": 73,
   "id": "bc628af0",
   "metadata": {},
   "outputs": [
    {
     "data": {
      "text/plain": [
       "202.27646736149205"
      ]
     },
     "execution_count": 73,
     "metadata": {},
     "output_type": "execute_result"
    }
   ],
   "source": [
    "236/pop_indep*100000"
   ]
  },
  {
   "cell_type": "code",
   "execution_count": 69,
   "id": "a2f8426b",
   "metadata": {},
   "outputs": [
    {
     "data": {
      "text/plain": [
       "195"
      ]
     },
     "execution_count": 69,
     "metadata": {},
     "output_type": "execute_result"
    }
   ],
   "source": [
    "# Police officers in MO 2020:\n",
    "police_i_old = df_2020[(df_2020[\"Government Function\"] == \"Police Protection - Persons with Power of Arrest\")&\\\n",
    "(df_2020[\"State\"] == \"Missouri\")&(df_2020[\"Name of Government\"].str.contains(\"Independence\"))]\\\n",
    "[\"Full-time Employees\"].sum()\n",
    "police_i_old"
   ]
  },
  {
   "cell_type": "code",
   "execution_count": 38,
   "id": "c2b0cfb5",
   "metadata": {},
   "outputs": [
    {
     "data": {
      "text/plain": [
       "164.56390565002744"
      ]
     },
     "execution_count": 38,
     "metadata": {},
     "output_type": "execute_result"
    }
   ],
   "source": [
    "# rate of police officers in population\n",
    "rate_indep = police_i/pop_indep*100000\n",
    "rate_indep"
   ]
  },
  {
   "cell_type": "code",
   "execution_count": 61,
   "id": "10387f9a",
   "metadata": {},
   "outputs": [
    {
     "data": {
      "text/plain": [
       "495327"
      ]
     },
     "execution_count": 61,
     "metadata": {},
     "output_type": "execute_result"
    }
   ],
   "source": [
    "# Population in Kansas city, MO:\n",
    "pop_k = df_2021[(df_2021[\"State\"] == \"Missouri\")&(df_2021[\"Name of Government\"] == \"Kansas City\")]\\\n",
    ".iloc[1][\"Population/Enrollment/Function Code\"].sum()\n",
    "pop_k"
   ]
  },
  {
   "cell_type": "code",
   "execution_count": 62,
   "id": "23785ae9",
   "metadata": {},
   "outputs": [
    {
     "data": {
      "text/plain": [
       "1259"
      ]
     },
     "execution_count": 62,
     "metadata": {},
     "output_type": "execute_result"
    }
   ],
   "source": [
    "police_k = df_2021[(df_2021[\"Government Function\"] == \"Police Protection - Persons with Power of Arrest\")&\\\n",
    "(df_2021[\"State\"] == \"Missouri\")&(df_2021[\"Name of Government\"] == \"Kansas City\")]\\\n",
    "[\"Full-time Employees\"].sum()\n",
    "police_k"
   ]
  },
  {
   "cell_type": "code",
   "execution_count": 60,
   "id": "d94c56ff",
   "metadata": {},
   "outputs": [
    {
     "data": {
      "text/plain": [
       "254.17552445152393"
      ]
     },
     "execution_count": 60,
     "metadata": {},
     "output_type": "execute_result"
    }
   ],
   "source": [
    "rate_kansas = police_k/pop_k*100000\n",
    "rate_kansas"
   ]
  },
  {
   "cell_type": "code",
   "execution_count": 64,
   "id": "927a9cc7",
   "metadata": {},
   "outputs": [
    {
     "data": {
      "text/plain": [
       "99357"
      ]
     },
     "execution_count": 64,
     "metadata": {},
     "output_type": "execute_result"
    }
   ],
   "source": [
    "# Population in Indep, MO:\n",
    "pop_lees= df_2021[(df_2021[\"State\"] == \"Missouri\")&(df_2021[\"Name of Government\"].str.contains(\"Lees Summit\"))]\\\n",
    ".iloc[1][\"Population/Enrollment/Function Code\"].sum()\n",
    "pop_lees"
   ]
  },
  {
   "cell_type": "code",
   "execution_count": 66,
   "id": "4276af49",
   "metadata": {},
   "outputs": [
    {
     "data": {
      "text/plain": [
       "139"
      ]
     },
     "execution_count": 66,
     "metadata": {},
     "output_type": "execute_result"
    }
   ],
   "source": [
    "police_l = df_2021[(df_2021[\"Government Function\"] == \"Police Protection - Persons with Power of Arrest\")&\\\n",
    "(df_2021[\"State\"] == \"Missouri\")&(df_2021[\"Name of Government\"].str.contains(\"Lees Summit\"))]\\\n",
    "[\"Full-time Employees\"].sum()\n",
    "police_l"
   ]
  },
  {
   "cell_type": "code",
   "execution_count": 67,
   "id": "c1c7288f",
   "metadata": {},
   "outputs": [
    {
     "data": {
      "text/plain": [
       "139.89955413307567"
      ]
     },
     "execution_count": 67,
     "metadata": {},
     "output_type": "execute_result"
    }
   ],
   "source": [
    "rate_l = police_l/pop_lees*100000\n",
    "rate_l"
   ]
  },
  {
   "cell_type": "code",
   "execution_count": 30,
   "id": "latest-spring",
   "metadata": {},
   "outputs": [],
   "source": [
    "df[\"average_fulltime_pay\"] = df[\"Full-time Payroll\"]/df[\"Full-time Employees\"]\n",
    "#df_2020[\"average_fulltime_pay\"] = df_2020[\"Full-time Payroll\"]/df_2020[\"Full-time Employees\"]"
   ]
  },
  {
   "cell_type": "code",
   "execution_count": 32,
   "id": "artificial-moral",
   "metadata": {},
   "outputs": [
    {
     "data": {
      "text/plain": [
       "4418236693"
      ]
     },
     "execution_count": 32,
     "metadata": {},
     "output_type": "execute_result"
    }
   ],
   "source": [
    "df[df[\"Government Function\"] == \"Police Protection - Persons with Power of Arrest\"][\"Full-time Payroll\"].sum()"
   ]
  },
  {
   "cell_type": "code",
   "execution_count": 34,
   "id": "christian-screw",
   "metadata": {},
   "outputs": [
    {
     "data": {
      "text/plain": [
       "580022"
      ]
     },
     "execution_count": 34,
     "metadata": {},
     "output_type": "execute_result"
    }
   ],
   "source": [
    "df[df[\"Government Function\"] == \"Police Protection - Persons with Power of Arrest\"][\"Full-time Employees\"].sum()"
   ]
  },
  {
   "cell_type": "code",
   "execution_count": 35,
   "id": "diverse-stylus",
   "metadata": {},
   "outputs": [
    {
     "data": {
      "text/plain": [
       "7617.360536324484"
      ]
     },
     "execution_count": 35,
     "metadata": {},
     "output_type": "execute_result"
    }
   ],
   "source": [
    "4418236693/580022"
   ]
  },
  {
   "cell_type": "code",
   "execution_count": 36,
   "id": "distinct-beverage",
   "metadata": {},
   "outputs": [
    {
     "data": {
      "text/plain": [
       "60555830"
      ]
     },
     "execution_count": 36,
     "metadata": {},
     "output_type": "execute_result"
    }
   ],
   "source": [
    "df[(df[\"Government Function\"] == \"Police Protection - Persons with Power of Arrest\") &\\\n",
    "  (df[\"State\"] == \"Missouri\")][\"Full-time Payroll\"].sum()"
   ]
  },
  {
   "cell_type": "code",
   "execution_count": 37,
   "id": "pointed-calculator",
   "metadata": {},
   "outputs": [
    {
     "data": {
      "text/plain": [
       "10504"
      ]
     },
     "execution_count": 37,
     "metadata": {},
     "output_type": "execute_result"
    }
   ],
   "source": [
    "df[(df[\"Government Function\"] == \"Police Protection - Persons with Power of Arrest\") &\\\n",
    "  (df[\"State\"] == \"Missouri\")][\"Full-time Employees\"].sum()"
   ]
  },
  {
   "cell_type": "code",
   "execution_count": 38,
   "id": "relative-google",
   "metadata": {},
   "outputs": [
    {
     "data": {
      "text/plain": [
       "5765.025704493526"
      ]
     },
     "execution_count": 38,
     "metadata": {},
     "output_type": "execute_result"
    }
   ],
   "source": [
    "60555830/10504"
   ]
  },
  {
   "cell_type": "code",
   "execution_count": 22,
   "id": "f3b7e367",
   "metadata": {},
   "outputs": [],
   "source": [
    "df[\"average_fulltime_pay\"] = df[\"Full-time Payroll\"]/df[\"Full-time Employees\"]\n",
    "df[\"average_annual_pay\"] = df[\"average_fulltime_pay\"]*12"
   ]
  },
  {
   "cell_type": "code",
   "execution_count": 24,
   "id": "representative-automation",
   "metadata": {},
   "outputs": [
    {
     "data": {
      "text/html": [
       "<div>\n",
       "<style scoped>\n",
       "    .dataframe tbody tr th:only-of-type {\n",
       "        vertical-align: middle;\n",
       "    }\n",
       "\n",
       "    .dataframe tbody tr th {\n",
       "        vertical-align: top;\n",
       "    }\n",
       "\n",
       "    .dataframe thead th {\n",
       "        text-align: right;\n",
       "    }\n",
       "</style>\n",
       "<table border=\"1\" class=\"dataframe\">\n",
       "  <thead>\n",
       "    <tr style=\"text-align: right;\">\n",
       "      <th></th>\n",
       "      <th>Government Function</th>\n",
       "      <th>Full-time Employees</th>\n",
       "      <th>average_annual_pay</th>\n",
       "    </tr>\n",
       "  </thead>\n",
       "  <tbody>\n",
       "    <tr>\n",
       "      <th>41866</th>\n",
       "      <td>Electric Power</td>\n",
       "      <td>122</td>\n",
       "      <td>99395.409836</td>\n",
       "    </tr>\n",
       "    <tr>\n",
       "      <th>41858</th>\n",
       "      <td>Fire Protection - Other</td>\n",
       "      <td>9</td>\n",
       "      <td>95132.000000</td>\n",
       "    </tr>\n",
       "    <tr>\n",
       "      <th>41853</th>\n",
       "      <td>Other Government Administration</td>\n",
       "      <td>11</td>\n",
       "      <td>81646.909091</td>\n",
       "    </tr>\n",
       "    <tr>\n",
       "      <th>41854</th>\n",
       "      <td>Judicial and Legal</td>\n",
       "      <td>14</td>\n",
       "      <td>75797.142857</td>\n",
       "    </tr>\n",
       "    <tr>\n",
       "      <th>41857</th>\n",
       "      <td>Fire Protection - Firefighters</td>\n",
       "      <td>159</td>\n",
       "      <td>72334.415094</td>\n",
       "    </tr>\n",
       "    <tr>\n",
       "      <th>41851</th>\n",
       "      <td>Total - All Government Employment Functions</td>\n",
       "      <td>839</td>\n",
       "      <td>70815.933254</td>\n",
       "    </tr>\n",
       "    <tr>\n",
       "      <th>41855</th>\n",
       "      <td>Police Protection - Persons with Power of Arrest</td>\n",
       "      <td>192</td>\n",
       "      <td>70546.187500</td>\n",
       "    </tr>\n",
       "    <tr>\n",
       "      <th>41852</th>\n",
       "      <td>Financial Administration</td>\n",
       "      <td>24</td>\n",
       "      <td>68225.500000</td>\n",
       "    </tr>\n",
       "    <tr>\n",
       "      <th>41865</th>\n",
       "      <td>Water Supply</td>\n",
       "      <td>48</td>\n",
       "      <td>67417.750000</td>\n",
       "    </tr>\n",
       "    <tr>\n",
       "      <th>41867</th>\n",
       "      <td>All other and unallocable</td>\n",
       "      <td>73</td>\n",
       "      <td>66370.356164</td>\n",
       "    </tr>\n",
       "    <tr>\n",
       "      <th>41861</th>\n",
       "      <td>Health</td>\n",
       "      <td>6</td>\n",
       "      <td>57630.000000</td>\n",
       "    </tr>\n",
       "    <tr>\n",
       "      <th>41862</th>\n",
       "      <td>Sewerage</td>\n",
       "      <td>53</td>\n",
       "      <td>56725.584906</td>\n",
       "    </tr>\n",
       "    <tr>\n",
       "      <th>41864</th>\n",
       "      <td>Housing and Community Development</td>\n",
       "      <td>9</td>\n",
       "      <td>55873.333333</td>\n",
       "    </tr>\n",
       "    <tr>\n",
       "      <th>43120</th>\n",
       "      <td>Education - Elementary and Secondary Instructi...</td>\n",
       "      <td>1212</td>\n",
       "      <td>54654.782178</td>\n",
       "    </tr>\n",
       "    <tr>\n",
       "      <th>41856</th>\n",
       "      <td>Police Protection - Other</td>\n",
       "      <td>33</td>\n",
       "      <td>52452.727273</td>\n",
       "    </tr>\n",
       "    <tr>\n",
       "      <th>41860</th>\n",
       "      <td>Highways</td>\n",
       "      <td>30</td>\n",
       "      <td>51382.000000</td>\n",
       "    </tr>\n",
       "    <tr>\n",
       "      <th>43119</th>\n",
       "      <td>Total - All Government Employment Functions</td>\n",
       "      <td>1721</td>\n",
       "      <td>48593.661825</td>\n",
       "    </tr>\n",
       "    <tr>\n",
       "      <th>41859</th>\n",
       "      <td>Corrections</td>\n",
       "      <td>14</td>\n",
       "      <td>48360.000000</td>\n",
       "    </tr>\n",
       "    <tr>\n",
       "      <th>41863</th>\n",
       "      <td>Parks and Recreation</td>\n",
       "      <td>42</td>\n",
       "      <td>45328.285714</td>\n",
       "    </tr>\n",
       "    <tr>\n",
       "      <th>43121</th>\n",
       "      <td>Education - Elementary and Secondary Other</td>\n",
       "      <td>509</td>\n",
       "      <td>34161.288802</td>\n",
       "    </tr>\n",
       "  </tbody>\n",
       "</table>\n",
       "</div>"
      ],
      "text/plain": [
       "                                     Government Function  Full-time Employees  \\\n",
       "41866                                     Electric Power                  122   \n",
       "41858                            Fire Protection - Other                    9   \n",
       "41853                    Other Government Administration                   11   \n",
       "41854                                 Judicial and Legal                   14   \n",
       "41857                     Fire Protection - Firefighters                  159   \n",
       "41851        Total - All Government Employment Functions                  839   \n",
       "41855   Police Protection - Persons with Power of Arrest                  192   \n",
       "41852                           Financial Administration                   24   \n",
       "41865                                       Water Supply                   48   \n",
       "41867                          All other and unallocable                   73   \n",
       "41861                                             Health                    6   \n",
       "41862                                           Sewerage                   53   \n",
       "41864                  Housing and Community Development                    9   \n",
       "43120  Education - Elementary and Secondary Instructi...                 1212   \n",
       "41856                          Police Protection - Other                   33   \n",
       "41860                                           Highways                   30   \n",
       "43119        Total - All Government Employment Functions                 1721   \n",
       "41859                                        Corrections                   14   \n",
       "41863                               Parks and Recreation                   42   \n",
       "43121         Education - Elementary and Secondary Other                  509   \n",
       "\n",
       "       average_annual_pay  \n",
       "41866        99395.409836  \n",
       "41858        95132.000000  \n",
       "41853        81646.909091  \n",
       "41854        75797.142857  \n",
       "41857        72334.415094  \n",
       "41851        70815.933254  \n",
       "41855        70546.187500  \n",
       "41852        68225.500000  \n",
       "41865        67417.750000  \n",
       "41867        66370.356164  \n",
       "41861        57630.000000  \n",
       "41862        56725.584906  \n",
       "41864        55873.333333  \n",
       "43120        54654.782178  \n",
       "41856        52452.727273  \n",
       "41860        51382.000000  \n",
       "43119        48593.661825  \n",
       "41859        48360.000000  \n",
       "41863        45328.285714  \n",
       "43121        34161.288802  "
      ]
     },
     "execution_count": 24,
     "metadata": {},
     "output_type": "execute_result"
    }
   ],
   "source": [
    "df = df[(df[\"State\"] == \"Missouri\") &\\\n",
    "  (df[\"Name of Government\"].str.contains(\"Independence\"))].sort_values(\"average_fulltime_pay\", ascending = False)\n",
    "df[[\"Government Function\", \"Full-time Employees\", \"average_annual_pay\"]]"
   ]
  },
  {
   "cell_type": "code",
   "execution_count": 1,
   "id": "collaborative-execution",
   "metadata": {},
   "outputs": [
    {
     "ename": "NameError",
     "evalue": "name 'df_2020' is not defined",
     "output_type": "error",
     "traceback": [
      "\u001b[0;31m---------------------------------------------------------------------------\u001b[0m",
      "\u001b[0;31mNameError\u001b[0m                                 Traceback (most recent call last)",
      "Input \u001b[0;32mIn [1]\u001b[0m, in \u001b[0;36m<cell line: 1>\u001b[0;34m()\u001b[0m\n\u001b[0;32m----> 1\u001b[0m df_20_payroll \u001b[38;5;241m=\u001b[39m \u001b[43mdf_2020\u001b[49m[(df_2020[\u001b[38;5;124m\"\u001b[39m\u001b[38;5;124mState\u001b[39m\u001b[38;5;124m\"\u001b[39m] \u001b[38;5;241m==\u001b[39m \u001b[38;5;124m\"\u001b[39m\u001b[38;5;124mMissouri\u001b[39m\u001b[38;5;124m\"\u001b[39m) \u001b[38;5;241m&\u001b[39m\\\n\u001b[1;32m      2\u001b[0m   (df_2020[\u001b[38;5;124m\"\u001b[39m\u001b[38;5;124mName of Government\u001b[39m\u001b[38;5;124m\"\u001b[39m]\u001b[38;5;241m.\u001b[39mstr\u001b[38;5;241m.\u001b[39mcontains(\u001b[38;5;124m\"\u001b[39m\u001b[38;5;124mIndependence\u001b[39m\u001b[38;5;124m\"\u001b[39m))]\u001b[38;5;241m.\u001b[39msort_values(\u001b[38;5;124m\"\u001b[39m\u001b[38;5;124maverage_fulltime_pay\u001b[39m\u001b[38;5;124m\"\u001b[39m, ascending \u001b[38;5;241m=\u001b[39m \u001b[38;5;28;01mFalse\u001b[39;00m)\n",
      "\u001b[0;31mNameError\u001b[0m: name 'df_2020' is not defined"
     ]
    }
   ],
   "source": [
    "df_20_payroll = df_2020[(df_2020[\"State\"] == \"Missouri\") &\\\n",
    "  (df_2020[\"Name of Government\"].str.contains(\"Independence\"))].sort_values(\"average_fulltime_pay\", ascending = False)"
   ]
  },
  {
   "cell_type": "code",
   "execution_count": 28,
   "id": "96beefaf",
   "metadata": {},
   "outputs": [
    {
     "data": {
      "text/html": [
       "<div>\n",
       "<style scoped>\n",
       "    .dataframe tbody tr th:only-of-type {\n",
       "        vertical-align: middle;\n",
       "    }\n",
       "\n",
       "    .dataframe tbody tr th {\n",
       "        vertical-align: top;\n",
       "    }\n",
       "\n",
       "    .dataframe thead th {\n",
       "        text-align: right;\n",
       "    }\n",
       "</style>\n",
       "<table border=\"1\" class=\"dataframe\">\n",
       "  <thead>\n",
       "    <tr style=\"text-align: right;\">\n",
       "      <th></th>\n",
       "      <th>Government Function</th>\n",
       "      <th>Full-time Employees</th>\n",
       "      <th>average_annual_pay</th>\n",
       "    </tr>\n",
       "  </thead>\n",
       "  <tbody>\n",
       "  </tbody>\n",
       "</table>\n",
       "</div>"
      ],
      "text/plain": [
       "Empty DataFrame\n",
       "Columns: [Government Function, Full-time Employees, average_annual_pay]\n",
       "Index: []"
      ]
     },
     "execution_count": 28,
     "metadata": {},
     "output_type": "execute_result"
    }
   ],
   "source": [
    "df = df[(df[\"State\"] == \"Missouri\") &\\\n",
    "  (df[\"Name of Government\"] == \"Kansas City\")].sort_values(\"average_fulltime_pay\", ascending = False)\n",
    "df[[\"Government Function\", \"Full-time Employees\", \"average_annual_pay\"]]"
   ]
  },
  {
   "cell_type": "code",
   "execution_count": 32,
   "id": "valid-funeral",
   "metadata": {},
   "outputs": [
    {
     "data": {
      "text/html": [
       "<div>\n",
       "<style scoped>\n",
       "    .dataframe tbody tr th:only-of-type {\n",
       "        vertical-align: middle;\n",
       "    }\n",
       "\n",
       "    .dataframe tbody tr th {\n",
       "        vertical-align: top;\n",
       "    }\n",
       "\n",
       "    .dataframe thead th {\n",
       "        text-align: right;\n",
       "    }\n",
       "</style>\n",
       "<table border=\"1\" class=\"dataframe\">\n",
       "  <thead>\n",
       "    <tr style=\"text-align: right;\">\n",
       "      <th></th>\n",
       "      <th>Government Function</th>\n",
       "      <th>Full-time Employees</th>\n",
       "      <th>average_fulltime_pay</th>\n",
       "    </tr>\n",
       "  </thead>\n",
       "  <tbody>\n",
       "    <tr>\n",
       "      <th>41875</th>\n",
       "      <td>Fire Protection - Other</td>\n",
       "      <td>666</td>\n",
       "      <td>7005.312312</td>\n",
       "    </tr>\n",
       "    <tr>\n",
       "      <th>41872</th>\n",
       "      <td>Police Protection - Persons with Power of Arrest</td>\n",
       "      <td>1259</td>\n",
       "      <td>6831.785544</td>\n",
       "    </tr>\n",
       "    <tr>\n",
       "      <th>41880</th>\n",
       "      <td>Solid Waste Management</td>\n",
       "      <td>36</td>\n",
       "      <td>6216.388889</td>\n",
       "    </tr>\n",
       "    <tr>\n",
       "      <th>41874</th>\n",
       "      <td>Fire Protection - Firefighters</td>\n",
       "      <td>613</td>\n",
       "      <td>6126.755302</td>\n",
       "    </tr>\n",
       "    <tr>\n",
       "      <th>41870</th>\n",
       "      <td>Other Government Administration</td>\n",
       "      <td>406</td>\n",
       "      <td>5866.605911</td>\n",
       "    </tr>\n",
       "    <tr>\n",
       "      <th>41869</th>\n",
       "      <td>Financial Administration</td>\n",
       "      <td>89</td>\n",
       "      <td>5707.067416</td>\n",
       "    </tr>\n",
       "    <tr>\n",
       "      <th>41868</th>\n",
       "      <td>Total - All Government Employment Functions</td>\n",
       "      <td>6078</td>\n",
       "      <td>5604.538335</td>\n",
       "    </tr>\n",
       "    <tr>\n",
       "      <th>41885</th>\n",
       "      <td>All other and unallocable</td>\n",
       "      <td>36</td>\n",
       "      <td>5398.138889</td>\n",
       "    </tr>\n",
       "    <tr>\n",
       "      <th>41881</th>\n",
       "      <td>Sewerage</td>\n",
       "      <td>136</td>\n",
       "      <td>5387.411765</td>\n",
       "    </tr>\n",
       "    <tr>\n",
       "      <th>41883</th>\n",
       "      <td>Housing and Community Development</td>\n",
       "      <td>85</td>\n",
       "      <td>5319.164706</td>\n",
       "    </tr>\n",
       "    <tr>\n",
       "      <th>41873</th>\n",
       "      <td>Police Protection - Other</td>\n",
       "      <td>546</td>\n",
       "      <td>4812.320513</td>\n",
       "    </tr>\n",
       "    <tr>\n",
       "      <th>41884</th>\n",
       "      <td>Water Supply</td>\n",
       "      <td>725</td>\n",
       "      <td>4717.758621</td>\n",
       "    </tr>\n",
       "    <tr>\n",
       "      <th>41879</th>\n",
       "      <td>Health</td>\n",
       "      <td>215</td>\n",
       "      <td>4698.716279</td>\n",
       "    </tr>\n",
       "    <tr>\n",
       "      <th>41876</th>\n",
       "      <td>Highways</td>\n",
       "      <td>267</td>\n",
       "      <td>4615.977528</td>\n",
       "    </tr>\n",
       "    <tr>\n",
       "      <th>41871</th>\n",
       "      <td>Judicial and Legal</td>\n",
       "      <td>77</td>\n",
       "      <td>4528.415584</td>\n",
       "    </tr>\n",
       "    <tr>\n",
       "      <th>41877</th>\n",
       "      <td>Air Transportation</td>\n",
       "      <td>397</td>\n",
       "      <td>4299.261965</td>\n",
       "    </tr>\n",
       "    <tr>\n",
       "      <th>41878</th>\n",
       "      <td>Public Welfare</td>\n",
       "      <td>209</td>\n",
       "      <td>4219.449761</td>\n",
       "    </tr>\n",
       "    <tr>\n",
       "      <th>41882</th>\n",
       "      <td>Parks and Recreation</td>\n",
       "      <td>316</td>\n",
       "      <td>4181.224684</td>\n",
       "    </tr>\n",
       "  </tbody>\n",
       "</table>\n",
       "</div>"
      ],
      "text/plain": [
       "                                    Government Function  Full-time Employees  \\\n",
       "41875                           Fire Protection - Other                  666   \n",
       "41872  Police Protection - Persons with Power of Arrest                 1259   \n",
       "41880                            Solid Waste Management                   36   \n",
       "41874                    Fire Protection - Firefighters                  613   \n",
       "41870                   Other Government Administration                  406   \n",
       "41869                          Financial Administration                   89   \n",
       "41868       Total - All Government Employment Functions                 6078   \n",
       "41885                         All other and unallocable                   36   \n",
       "41881                                          Sewerage                  136   \n",
       "41883                 Housing and Community Development                   85   \n",
       "41873                         Police Protection - Other                  546   \n",
       "41884                                      Water Supply                  725   \n",
       "41879                                            Health                  215   \n",
       "41876                                          Highways                  267   \n",
       "41871                                Judicial and Legal                   77   \n",
       "41877                                Air Transportation                  397   \n",
       "41878                                    Public Welfare                  209   \n",
       "41882                              Parks and Recreation                  316   \n",
       "\n",
       "       average_fulltime_pay  \n",
       "41875           7005.312312  \n",
       "41872           6831.785544  \n",
       "41880           6216.388889  \n",
       "41874           6126.755302  \n",
       "41870           5866.605911  \n",
       "41869           5707.067416  \n",
       "41868           5604.538335  \n",
       "41885           5398.138889  \n",
       "41881           5387.411765  \n",
       "41883           5319.164706  \n",
       "41873           4812.320513  \n",
       "41884           4717.758621  \n",
       "41879           4698.716279  \n",
       "41876           4615.977528  \n",
       "41871           4528.415584  \n",
       "41877           4299.261965  \n",
       "41878           4219.449761  \n",
       "41882           4181.224684  "
      ]
     },
     "execution_count": 32,
     "metadata": {},
     "output_type": "execute_result"
    }
   ],
   "source": [
    "df = df[(df[\"State\"] == \"Missouri\") &\\\n",
    "  (df[\"Name of Government\"] == \"Kansas City\")].sort_values(\"average_fulltime_pay\", ascending = False)\n",
    "df[[\"Government Function\", \"Full-time Employees\", \"average_fulltime_pay\"]]"
   ]
  },
  {
   "cell_type": "code",
   "execution_count": 43,
   "id": "driven-baptist",
   "metadata": {},
   "outputs": [
    {
     "data": {
      "text/html": [
       "<div>\n",
       "<style scoped>\n",
       "    .dataframe tbody tr th:only-of-type {\n",
       "        vertical-align: middle;\n",
       "    }\n",
       "\n",
       "    .dataframe tbody tr th {\n",
       "        vertical-align: top;\n",
       "    }\n",
       "\n",
       "    .dataframe thead th {\n",
       "        text-align: right;\n",
       "    }\n",
       "</style>\n",
       "<table border=\"1\" class=\"dataframe\">\n",
       "  <thead>\n",
       "    <tr style=\"text-align: right;\">\n",
       "      <th></th>\n",
       "      <th>State</th>\n",
       "      <th>Type of Government</th>\n",
       "      <th>Name of Government</th>\n",
       "      <th>Government Function</th>\n",
       "      <th>Full-time Employees</th>\n",
       "      <th>Full-time Employees Data Flag</th>\n",
       "      <th>Full-time Payroll</th>\n",
       "      <th>Full-time Payroll Data Flag</th>\n",
       "      <th>Part-time Employees</th>\n",
       "      <th>Part-time Employees Data Flag</th>\n",
       "      <th>...</th>\n",
       "      <th>Census Region</th>\n",
       "      <th>County Name</th>\n",
       "      <th>FIPS State</th>\n",
       "      <th>FIPS County</th>\n",
       "      <th>Population/Enrollment/Function Code</th>\n",
       "      <th>Year of Population/Enrollment</th>\n",
       "      <th>School Level</th>\n",
       "      <th>Probability of Selection</th>\n",
       "      <th>Worksheet Code</th>\n",
       "      <th>average_fulltime_pay</th>\n",
       "    </tr>\n",
       "  </thead>\n",
       "  <tbody>\n",
       "    <tr>\n",
       "      <th>41892</th>\n",
       "      <td>Missouri</td>\n",
       "      <td>Municipality</td>\n",
       "      <td>Lees Summit</td>\n",
       "      <td>Fire Protection - Firefighters</td>\n",
       "      <td>133</td>\n",
       "      <td>R</td>\n",
       "      <td>941687</td>\n",
       "      <td>R</td>\n",
       "      <td>0</td>\n",
       "      <td>R</td>\n",
       "      <td>...</td>\n",
       "      <td>Midwest</td>\n",
       "      <td>Jackson</td>\n",
       "      <td>29</td>\n",
       "      <td>95.0</td>\n",
       "      <td>99357</td>\n",
       "      <td>20.0</td>\n",
       "      <td>NaN</td>\n",
       "      <td>1.0</td>\n",
       "      <td>4</td>\n",
       "      <td>7080.353383</td>\n",
       "    </tr>\n",
       "    <tr>\n",
       "      <th>41897</th>\n",
       "      <td>Missouri</td>\n",
       "      <td>Municipality</td>\n",
       "      <td>Lees Summit</td>\n",
       "      <td>Solid Waste Management</td>\n",
       "      <td>1</td>\n",
       "      <td>R</td>\n",
       "      <td>6851</td>\n",
       "      <td>R</td>\n",
       "      <td>0</td>\n",
       "      <td>R</td>\n",
       "      <td>...</td>\n",
       "      <td>Midwest</td>\n",
       "      <td>Jackson</td>\n",
       "      <td>29</td>\n",
       "      <td>95.0</td>\n",
       "      <td>99357</td>\n",
       "      <td>20.0</td>\n",
       "      <td>NaN</td>\n",
       "      <td>1.0</td>\n",
       "      <td>4</td>\n",
       "      <td>6851.000000</td>\n",
       "    </tr>\n",
       "    <tr>\n",
       "      <th>41889</th>\n",
       "      <td>Missouri</td>\n",
       "      <td>Municipality</td>\n",
       "      <td>Lees Summit</td>\n",
       "      <td>Judicial and Legal</td>\n",
       "      <td>13</td>\n",
       "      <td>R</td>\n",
       "      <td>87234</td>\n",
       "      <td>R</td>\n",
       "      <td>6</td>\n",
       "      <td>C</td>\n",
       "      <td>...</td>\n",
       "      <td>Midwest</td>\n",
       "      <td>Jackson</td>\n",
       "      <td>29</td>\n",
       "      <td>95.0</td>\n",
       "      <td>99357</td>\n",
       "      <td>20.0</td>\n",
       "      <td>NaN</td>\n",
       "      <td>1.0</td>\n",
       "      <td>4</td>\n",
       "      <td>6710.307692</td>\n",
       "    </tr>\n",
       "    <tr>\n",
       "      <th>41890</th>\n",
       "      <td>Missouri</td>\n",
       "      <td>Municipality</td>\n",
       "      <td>Lees Summit</td>\n",
       "      <td>Police Protection - Persons with Power of Arrest</td>\n",
       "      <td>139</td>\n",
       "      <td>R</td>\n",
       "      <td>844905</td>\n",
       "      <td>R</td>\n",
       "      <td>0</td>\n",
       "      <td>R</td>\n",
       "      <td>...</td>\n",
       "      <td>Midwest</td>\n",
       "      <td>Jackson</td>\n",
       "      <td>29</td>\n",
       "      <td>95.0</td>\n",
       "      <td>99357</td>\n",
       "      <td>20.0</td>\n",
       "      <td>NaN</td>\n",
       "      <td>1.0</td>\n",
       "      <td>4</td>\n",
       "      <td>6078.453237</td>\n",
       "    </tr>\n",
       "    <tr>\n",
       "      <th>41886</th>\n",
       "      <td>Missouri</td>\n",
       "      <td>Municipality</td>\n",
       "      <td>Lees Summit</td>\n",
       "      <td>Total - All Government Employment Functions</td>\n",
       "      <td>659</td>\n",
       "      <td>R</td>\n",
       "      <td>3710490</td>\n",
       "      <td>R</td>\n",
       "      <td>166</td>\n",
       "      <td>R</td>\n",
       "      <td>...</td>\n",
       "      <td>Midwest</td>\n",
       "      <td>Jackson</td>\n",
       "      <td>29</td>\n",
       "      <td>95.0</td>\n",
       "      <td>99357</td>\n",
       "      <td>20.0</td>\n",
       "      <td>NaN</td>\n",
       "      <td>1.0</td>\n",
       "      <td>4</td>\n",
       "      <td>5630.485584</td>\n",
       "    </tr>\n",
       "    <tr>\n",
       "      <th>41887</th>\n",
       "      <td>Missouri</td>\n",
       "      <td>Municipality</td>\n",
       "      <td>Lees Summit</td>\n",
       "      <td>Financial Administration</td>\n",
       "      <td>46</td>\n",
       "      <td>R</td>\n",
       "      <td>258819</td>\n",
       "      <td>R</td>\n",
       "      <td>1</td>\n",
       "      <td>R</td>\n",
       "      <td>...</td>\n",
       "      <td>Midwest</td>\n",
       "      <td>Jackson</td>\n",
       "      <td>29</td>\n",
       "      <td>95.0</td>\n",
       "      <td>99357</td>\n",
       "      <td>20.0</td>\n",
       "      <td>NaN</td>\n",
       "      <td>1.0</td>\n",
       "      <td>4</td>\n",
       "      <td>5626.500000</td>\n",
       "    </tr>\n",
       "    <tr>\n",
       "      <th>41888</th>\n",
       "      <td>Missouri</td>\n",
       "      <td>Municipality</td>\n",
       "      <td>Lees Summit</td>\n",
       "      <td>Other Government Administration</td>\n",
       "      <td>52</td>\n",
       "      <td>R</td>\n",
       "      <td>285729</td>\n",
       "      <td>R</td>\n",
       "      <td>2</td>\n",
       "      <td>R</td>\n",
       "      <td>...</td>\n",
       "      <td>Midwest</td>\n",
       "      <td>Jackson</td>\n",
       "      <td>29</td>\n",
       "      <td>95.0</td>\n",
       "      <td>99357</td>\n",
       "      <td>20.0</td>\n",
       "      <td>NaN</td>\n",
       "      <td>1.0</td>\n",
       "      <td>4</td>\n",
       "      <td>5494.788462</td>\n",
       "    </tr>\n",
       "    <tr>\n",
       "      <th>43126</th>\n",
       "      <td>Missouri</td>\n",
       "      <td>Independent School District</td>\n",
       "      <td>Lees Summit Sch Dist R-7</td>\n",
       "      <td>Education - Elementary and Secondary Instructi...</td>\n",
       "      <td>1432</td>\n",
       "      <td>R</td>\n",
       "      <td>7826282</td>\n",
       "      <td>R</td>\n",
       "      <td>10</td>\n",
       "      <td>R</td>\n",
       "      <td>...</td>\n",
       "      <td>Midwest</td>\n",
       "      <td>Jackson</td>\n",
       "      <td>29</td>\n",
       "      <td>95.0</td>\n",
       "      <td>18410</td>\n",
       "      <td>NaN</td>\n",
       "      <td>Elementary and Secondary</td>\n",
       "      <td>1.0</td>\n",
       "      <td>8</td>\n",
       "      <td>5465.280726</td>\n",
       "    </tr>\n",
       "    <tr>\n",
       "      <th>41893</th>\n",
       "      <td>Missouri</td>\n",
       "      <td>Municipality</td>\n",
       "      <td>Lees Summit</td>\n",
       "      <td>Fire Protection - Other</td>\n",
       "      <td>15</td>\n",
       "      <td>R</td>\n",
       "      <td>77330</td>\n",
       "      <td>R</td>\n",
       "      <td>0</td>\n",
       "      <td>R</td>\n",
       "      <td>...</td>\n",
       "      <td>Midwest</td>\n",
       "      <td>Jackson</td>\n",
       "      <td>29</td>\n",
       "      <td>95.0</td>\n",
       "      <td>99357</td>\n",
       "      <td>20.0</td>\n",
       "      <td>NaN</td>\n",
       "      <td>1.0</td>\n",
       "      <td>4</td>\n",
       "      <td>5155.333333</td>\n",
       "    </tr>\n",
       "    <tr>\n",
       "      <th>41895</th>\n",
       "      <td>Missouri</td>\n",
       "      <td>Municipality</td>\n",
       "      <td>Lees Summit</td>\n",
       "      <td>Highways</td>\n",
       "      <td>70</td>\n",
       "      <td>R</td>\n",
       "      <td>358353</td>\n",
       "      <td>R</td>\n",
       "      <td>1</td>\n",
       "      <td>R</td>\n",
       "      <td>...</td>\n",
       "      <td>Midwest</td>\n",
       "      <td>Jackson</td>\n",
       "      <td>29</td>\n",
       "      <td>95.0</td>\n",
       "      <td>99357</td>\n",
       "      <td>20.0</td>\n",
       "      <td>NaN</td>\n",
       "      <td>1.0</td>\n",
       "      <td>4</td>\n",
       "      <td>5119.328571</td>\n",
       "    </tr>\n",
       "    <tr>\n",
       "      <th>41899</th>\n",
       "      <td>Missouri</td>\n",
       "      <td>Municipality</td>\n",
       "      <td>Lees Summit</td>\n",
       "      <td>Water Supply</td>\n",
       "      <td>62</td>\n",
       "      <td>R</td>\n",
       "      <td>294352</td>\n",
       "      <td>R</td>\n",
       "      <td>0</td>\n",
       "      <td>R</td>\n",
       "      <td>...</td>\n",
       "      <td>Midwest</td>\n",
       "      <td>Jackson</td>\n",
       "      <td>29</td>\n",
       "      <td>95.0</td>\n",
       "      <td>99357</td>\n",
       "      <td>20.0</td>\n",
       "      <td>NaN</td>\n",
       "      <td>1.0</td>\n",
       "      <td>4</td>\n",
       "      <td>4747.612903</td>\n",
       "    </tr>\n",
       "    <tr>\n",
       "      <th>41896</th>\n",
       "      <td>Missouri</td>\n",
       "      <td>Municipality</td>\n",
       "      <td>Lees Summit</td>\n",
       "      <td>Air Transportation</td>\n",
       "      <td>5</td>\n",
       "      <td>R</td>\n",
       "      <td>23549</td>\n",
       "      <td>R</td>\n",
       "      <td>4</td>\n",
       "      <td>R</td>\n",
       "      <td>...</td>\n",
       "      <td>Midwest</td>\n",
       "      <td>Jackson</td>\n",
       "      <td>29</td>\n",
       "      <td>95.0</td>\n",
       "      <td>99357</td>\n",
       "      <td>20.0</td>\n",
       "      <td>NaN</td>\n",
       "      <td>1.0</td>\n",
       "      <td>4</td>\n",
       "      <td>4709.800000</td>\n",
       "    </tr>\n",
       "    <tr>\n",
       "      <th>41898</th>\n",
       "      <td>Missouri</td>\n",
       "      <td>Municipality</td>\n",
       "      <td>Lees Summit</td>\n",
       "      <td>Parks and Recreation</td>\n",
       "      <td>40</td>\n",
       "      <td>R</td>\n",
       "      <td>180706</td>\n",
       "      <td>R</td>\n",
       "      <td>148</td>\n",
       "      <td>R</td>\n",
       "      <td>...</td>\n",
       "      <td>Midwest</td>\n",
       "      <td>Jackson</td>\n",
       "      <td>29</td>\n",
       "      <td>95.0</td>\n",
       "      <td>99357</td>\n",
       "      <td>20.0</td>\n",
       "      <td>NaN</td>\n",
       "      <td>1.0</td>\n",
       "      <td>4</td>\n",
       "      <td>4517.650000</td>\n",
       "    </tr>\n",
       "    <tr>\n",
       "      <th>43125</th>\n",
       "      <td>Missouri</td>\n",
       "      <td>Independent School District</td>\n",
       "      <td>Lees Summit Sch Dist R-7</td>\n",
       "      <td>Total - All Government Employment Functions</td>\n",
       "      <td>2576</td>\n",
       "      <td>R</td>\n",
       "      <td>11589278</td>\n",
       "      <td>R</td>\n",
       "      <td>97</td>\n",
       "      <td>R</td>\n",
       "      <td>...</td>\n",
       "      <td>Midwest</td>\n",
       "      <td>Jackson</td>\n",
       "      <td>29</td>\n",
       "      <td>95.0</td>\n",
       "      <td>18410</td>\n",
       "      <td>NaN</td>\n",
       "      <td>Elementary and Secondary</td>\n",
       "      <td>1.0</td>\n",
       "      <td>8</td>\n",
       "      <td>4498.943323</td>\n",
       "    </tr>\n",
       "    <tr>\n",
       "      <th>41900</th>\n",
       "      <td>Missouri</td>\n",
       "      <td>Municipality</td>\n",
       "      <td>Lees Summit</td>\n",
       "      <td>All other and unallocable</td>\n",
       "      <td>34</td>\n",
       "      <td>C</td>\n",
       "      <td>147077</td>\n",
       "      <td>C</td>\n",
       "      <td>0</td>\n",
       "      <td>C</td>\n",
       "      <td>...</td>\n",
       "      <td>Midwest</td>\n",
       "      <td>Jackson</td>\n",
       "      <td>29</td>\n",
       "      <td>95.0</td>\n",
       "      <td>99357</td>\n",
       "      <td>20.0</td>\n",
       "      <td>NaN</td>\n",
       "      <td>1.0</td>\n",
       "      <td>4</td>\n",
       "      <td>4325.794118</td>\n",
       "    </tr>\n",
       "    <tr>\n",
       "      <th>41891</th>\n",
       "      <td>Missouri</td>\n",
       "      <td>Municipality</td>\n",
       "      <td>Lees Summit</td>\n",
       "      <td>Police Protection - Other</td>\n",
       "      <td>35</td>\n",
       "      <td>R</td>\n",
       "      <td>148067</td>\n",
       "      <td>R</td>\n",
       "      <td>4</td>\n",
       "      <td>R</td>\n",
       "      <td>...</td>\n",
       "      <td>Midwest</td>\n",
       "      <td>Jackson</td>\n",
       "      <td>29</td>\n",
       "      <td>95.0</td>\n",
       "      <td>99357</td>\n",
       "      <td>20.0</td>\n",
       "      <td>NaN</td>\n",
       "      <td>1.0</td>\n",
       "      <td>4</td>\n",
       "      <td>4230.485714</td>\n",
       "    </tr>\n",
       "    <tr>\n",
       "      <th>41894</th>\n",
       "      <td>Missouri</td>\n",
       "      <td>Municipality</td>\n",
       "      <td>Lees Summit</td>\n",
       "      <td>Corrections</td>\n",
       "      <td>14</td>\n",
       "      <td>R</td>\n",
       "      <td>55831</td>\n",
       "      <td>R</td>\n",
       "      <td>0</td>\n",
       "      <td>R</td>\n",
       "      <td>...</td>\n",
       "      <td>Midwest</td>\n",
       "      <td>Jackson</td>\n",
       "      <td>29</td>\n",
       "      <td>95.0</td>\n",
       "      <td>99357</td>\n",
       "      <td>20.0</td>\n",
       "      <td>NaN</td>\n",
       "      <td>1.0</td>\n",
       "      <td>4</td>\n",
       "      <td>3987.928571</td>\n",
       "    </tr>\n",
       "    <tr>\n",
       "      <th>43127</th>\n",
       "      <td>Missouri</td>\n",
       "      <td>Independent School District</td>\n",
       "      <td>Lees Summit Sch Dist R-7</td>\n",
       "      <td>Education - Elementary and Secondary Other</td>\n",
       "      <td>1144</td>\n",
       "      <td>R</td>\n",
       "      <td>3762996</td>\n",
       "      <td>R</td>\n",
       "      <td>87</td>\n",
       "      <td>R</td>\n",
       "      <td>...</td>\n",
       "      <td>Midwest</td>\n",
       "      <td>Jackson</td>\n",
       "      <td>29</td>\n",
       "      <td>95.0</td>\n",
       "      <td>18410</td>\n",
       "      <td>NaN</td>\n",
       "      <td>Elementary and Secondary</td>\n",
       "      <td>1.0</td>\n",
       "      <td>8</td>\n",
       "      <td>3289.332168</td>\n",
       "    </tr>\n",
       "  </tbody>\n",
       "</table>\n",
       "<p>18 rows × 23 columns</p>\n",
       "</div>"
      ],
      "text/plain": [
       "          State           Type of Government        Name of Government  \\\n",
       "41892  Missouri                 Municipality               Lees Summit   \n",
       "41897  Missouri                 Municipality               Lees Summit   \n",
       "41889  Missouri                 Municipality               Lees Summit   \n",
       "41890  Missouri                 Municipality               Lees Summit   \n",
       "41886  Missouri                 Municipality               Lees Summit   \n",
       "41887  Missouri                 Municipality               Lees Summit   \n",
       "41888  Missouri                 Municipality               Lees Summit   \n",
       "43126  Missouri  Independent School District  Lees Summit Sch Dist R-7   \n",
       "41893  Missouri                 Municipality               Lees Summit   \n",
       "41895  Missouri                 Municipality               Lees Summit   \n",
       "41899  Missouri                 Municipality               Lees Summit   \n",
       "41896  Missouri                 Municipality               Lees Summit   \n",
       "41898  Missouri                 Municipality               Lees Summit   \n",
       "43125  Missouri  Independent School District  Lees Summit Sch Dist R-7   \n",
       "41900  Missouri                 Municipality               Lees Summit   \n",
       "41891  Missouri                 Municipality               Lees Summit   \n",
       "41894  Missouri                 Municipality               Lees Summit   \n",
       "43127  Missouri  Independent School District  Lees Summit Sch Dist R-7   \n",
       "\n",
       "                                     Government Function  Full-time Employees  \\\n",
       "41892                     Fire Protection - Firefighters                  133   \n",
       "41897                             Solid Waste Management                    1   \n",
       "41889                                 Judicial and Legal                   13   \n",
       "41890   Police Protection - Persons with Power of Arrest                  139   \n",
       "41886        Total - All Government Employment Functions                  659   \n",
       "41887                           Financial Administration                   46   \n",
       "41888                    Other Government Administration                   52   \n",
       "43126  Education - Elementary and Secondary Instructi...                 1432   \n",
       "41893                            Fire Protection - Other                   15   \n",
       "41895                                           Highways                   70   \n",
       "41899                                       Water Supply                   62   \n",
       "41896                                 Air Transportation                    5   \n",
       "41898                               Parks and Recreation                   40   \n",
       "43125        Total - All Government Employment Functions                 2576   \n",
       "41900                          All other and unallocable                   34   \n",
       "41891                          Police Protection - Other                   35   \n",
       "41894                                        Corrections                   14   \n",
       "43127         Education - Elementary and Secondary Other                 1144   \n",
       "\n",
       "      Full-time Employees Data Flag  Full-time Payroll  \\\n",
       "41892                             R             941687   \n",
       "41897                             R               6851   \n",
       "41889                             R              87234   \n",
       "41890                             R             844905   \n",
       "41886                             R            3710490   \n",
       "41887                             R             258819   \n",
       "41888                             R             285729   \n",
       "43126                             R            7826282   \n",
       "41893                             R              77330   \n",
       "41895                             R             358353   \n",
       "41899                             R             294352   \n",
       "41896                             R              23549   \n",
       "41898                             R             180706   \n",
       "43125                             R           11589278   \n",
       "41900                             C             147077   \n",
       "41891                             R             148067   \n",
       "41894                             R              55831   \n",
       "43127                             R            3762996   \n",
       "\n",
       "      Full-time Payroll Data Flag  Part-time Employees  \\\n",
       "41892                           R                    0   \n",
       "41897                           R                    0   \n",
       "41889                           R                    6   \n",
       "41890                           R                    0   \n",
       "41886                           R                  166   \n",
       "41887                           R                    1   \n",
       "41888                           R                    2   \n",
       "43126                           R                   10   \n",
       "41893                           R                    0   \n",
       "41895                           R                    1   \n",
       "41899                           R                    0   \n",
       "41896                           R                    4   \n",
       "41898                           R                  148   \n",
       "43125                           R                   97   \n",
       "41900                           C                    0   \n",
       "41891                           R                    4   \n",
       "41894                           R                    0   \n",
       "43127                           R                   87   \n",
       "\n",
       "      Part-time Employees Data Flag  ...  Census Region County Name  \\\n",
       "41892                             R  ...        Midwest     Jackson   \n",
       "41897                             R  ...        Midwest     Jackson   \n",
       "41889                             C  ...        Midwest     Jackson   \n",
       "41890                             R  ...        Midwest     Jackson   \n",
       "41886                             R  ...        Midwest     Jackson   \n",
       "41887                             R  ...        Midwest     Jackson   \n",
       "41888                             R  ...        Midwest     Jackson   \n",
       "43126                             R  ...        Midwest     Jackson   \n",
       "41893                             R  ...        Midwest     Jackson   \n",
       "41895                             R  ...        Midwest     Jackson   \n",
       "41899                             R  ...        Midwest     Jackson   \n",
       "41896                             R  ...        Midwest     Jackson   \n",
       "41898                             R  ...        Midwest     Jackson   \n",
       "43125                             R  ...        Midwest     Jackson   \n",
       "41900                             C  ...        Midwest     Jackson   \n",
       "41891                             R  ...        Midwest     Jackson   \n",
       "41894                             R  ...        Midwest     Jackson   \n",
       "43127                             R  ...        Midwest     Jackson   \n",
       "\n",
       "       FIPS State FIPS County Population/Enrollment/Function Code  \\\n",
       "41892          29        95.0                               99357   \n",
       "41897          29        95.0                               99357   \n",
       "41889          29        95.0                               99357   \n",
       "41890          29        95.0                               99357   \n",
       "41886          29        95.0                               99357   \n",
       "41887          29        95.0                               99357   \n",
       "41888          29        95.0                               99357   \n",
       "43126          29        95.0                               18410   \n",
       "41893          29        95.0                               99357   \n",
       "41895          29        95.0                               99357   \n",
       "41899          29        95.0                               99357   \n",
       "41896          29        95.0                               99357   \n",
       "41898          29        95.0                               99357   \n",
       "43125          29        95.0                               18410   \n",
       "41900          29        95.0                               99357   \n",
       "41891          29        95.0                               99357   \n",
       "41894          29        95.0                               99357   \n",
       "43127          29        95.0                               18410   \n",
       "\n",
       "       Year of Population/Enrollment              School Level  \\\n",
       "41892                           20.0                       NaN   \n",
       "41897                           20.0                       NaN   \n",
       "41889                           20.0                       NaN   \n",
       "41890                           20.0                       NaN   \n",
       "41886                           20.0                       NaN   \n",
       "41887                           20.0                       NaN   \n",
       "41888                           20.0                       NaN   \n",
       "43126                            NaN  Elementary and Secondary   \n",
       "41893                           20.0                       NaN   \n",
       "41895                           20.0                       NaN   \n",
       "41899                           20.0                       NaN   \n",
       "41896                           20.0                       NaN   \n",
       "41898                           20.0                       NaN   \n",
       "43125                            NaN  Elementary and Secondary   \n",
       "41900                           20.0                       NaN   \n",
       "41891                           20.0                       NaN   \n",
       "41894                           20.0                       NaN   \n",
       "43127                            NaN  Elementary and Secondary   \n",
       "\n",
       "       Probability of Selection  Worksheet Code average_fulltime_pay  \n",
       "41892                       1.0               4          7080.353383  \n",
       "41897                       1.0               4          6851.000000  \n",
       "41889                       1.0               4          6710.307692  \n",
       "41890                       1.0               4          6078.453237  \n",
       "41886                       1.0               4          5630.485584  \n",
       "41887                       1.0               4          5626.500000  \n",
       "41888                       1.0               4          5494.788462  \n",
       "43126                       1.0               8          5465.280726  \n",
       "41893                       1.0               4          5155.333333  \n",
       "41895                       1.0               4          5119.328571  \n",
       "41899                       1.0               4          4747.612903  \n",
       "41896                       1.0               4          4709.800000  \n",
       "41898                       1.0               4          4517.650000  \n",
       "43125                       1.0               8          4498.943323  \n",
       "41900                       1.0               4          4325.794118  \n",
       "41891                       1.0               4          4230.485714  \n",
       "41894                       1.0               4          3987.928571  \n",
       "43127                       1.0               8          3289.332168  \n",
       "\n",
       "[18 rows x 23 columns]"
      ]
     },
     "execution_count": 43,
     "metadata": {},
     "output_type": "execute_result"
    }
   ],
   "source": [
    "df[(df[\"State\"] == \"Missouri\") &\\\n",
    "  (df[\"Name of Government\"].str.contains(\"Lees Summit\"))].sort_values(\"average_fulltime_pay\", ascending = False)"
   ]
  },
  {
   "cell_type": "code",
   "execution_count": 25,
   "id": "a573b871",
   "metadata": {},
   "outputs": [
    {
     "data": {
      "text/html": [
       "<div>\n",
       "<style scoped>\n",
       "    .dataframe tbody tr th:only-of-type {\n",
       "        vertical-align: middle;\n",
       "    }\n",
       "\n",
       "    .dataframe tbody tr th {\n",
       "        vertical-align: top;\n",
       "    }\n",
       "\n",
       "    .dataframe thead th {\n",
       "        text-align: right;\n",
       "    }\n",
       "</style>\n",
       "<table border=\"1\" class=\"dataframe\">\n",
       "  <thead>\n",
       "    <tr style=\"text-align: right;\">\n",
       "      <th></th>\n",
       "      <th>State</th>\n",
       "      <th>Type of Government</th>\n",
       "      <th>Name of Government</th>\n",
       "      <th>Government Function</th>\n",
       "      <th>Full-time Employees</th>\n",
       "      <th>Full-time Employees Data Flag</th>\n",
       "      <th>Full-time Payroll</th>\n",
       "      <th>Full-time Payroll Data Flag</th>\n",
       "      <th>Part-time Employees</th>\n",
       "      <th>Part-time Employees Data Flag</th>\n",
       "      <th>...</th>\n",
       "      <th>County Name</th>\n",
       "      <th>FIPS State</th>\n",
       "      <th>FIPS County</th>\n",
       "      <th>Population/Enrollment/Function Code</th>\n",
       "      <th>Year of Population/Enrollment</th>\n",
       "      <th>School Level</th>\n",
       "      <th>Probability of Selection</th>\n",
       "      <th>Worksheet Code</th>\n",
       "      <th>average_fulltime_pay</th>\n",
       "      <th>average_annual_pay</th>\n",
       "    </tr>\n",
       "  </thead>\n",
       "  <tbody>\n",
       "  </tbody>\n",
       "</table>\n",
       "<p>0 rows × 24 columns</p>\n",
       "</div>"
      ],
      "text/plain": [
       "Empty DataFrame\n",
       "Columns: [State, Type of Government, Name of Government, Government Function, Full-time Employees, Full-time Employees Data Flag, Full-time Payroll, Full-time Payroll Data Flag, Part-time Employees, Part-time Employees Data Flag, Part-time Payroll, Part-time Payroll Data Flag, Individual Unit ID, Census Region, County Name, FIPS State, FIPS County, Population/Enrollment/Function Code, Year of Population/Enrollment, School Level, Probability of Selection, Worksheet Code, average_fulltime_pay, average_annual_pay]\n",
       "Index: []\n",
       "\n",
       "[0 rows x 24 columns]"
      ]
     },
     "execution_count": 25,
     "metadata": {},
     "output_type": "execute_result"
    }
   ],
   "source": [
    "df[(df[\"State\"] == \"Missouri\") &\\\n",
    "  (df[\"Name of Government\"]==\"Kansas City\")].sort_values(\"average_fulltime_pay\", ascending = False)"
   ]
  },
  {
   "cell_type": "code",
   "execution_count": 52,
   "id": "extreme-measurement",
   "metadata": {},
   "outputs": [],
   "source": [
    "df_2021_short = df[[\"State\", \"Type of Government\", \"Name of Government\",\\\n",
    "    \"Government Function\", \"Full-time Employees\",\\\n",
    "    \"Full-time Payroll\", \"average_fulltime_pay\"]].rename(columns = {\n",
    "    \"Full-time Employees\": \"Full-time Employees 2021\",\n",
    "    \"Full-time Payroll\": \"Full-time Payroll 2021\",\n",
    "    \"average_fulltime_pay\": \"average_fulltime_pay 2021\"\n",
    "})"
   ]
  },
  {
   "cell_type": "code",
   "execution_count": 53,
   "id": "ecological-budget",
   "metadata": {},
   "outputs": [],
   "source": [
    "df_2020_short = df_2020[[\"State\", \"Type of Government\", \"Name of Government\",\\\n",
    "    \"Government Function\", \"Full-time Employees\",\\\n",
    "    \"Full-time Payroll\", \"average_fulltime_pay\"]].rename(columns = {\n",
    "    \"Full-time Employees\": \"Full-time Employees 2020\",\n",
    "    \"Full-time Payroll\": \"Full-time Payroll 2020\",\n",
    "    \"average_fulltime_pay\": \"average_fulltime_pay 2020\"\n",
    "})"
   ]
  },
  {
   "cell_type": "code",
   "execution_count": 55,
   "id": "established-boxing",
   "metadata": {},
   "outputs": [],
   "source": [
    "df_merge = pd.merge(df_2021_short, df_2020_short, on=[\"State\", \"Type of Government\", \"Name of Government\",\\\n",
    "    \"Government Function\"])"
   ]
  },
  {
   "cell_type": "code",
   "execution_count": 103,
   "id": "useful-panama",
   "metadata": {},
   "outputs": [],
   "source": [
    "df_merge[\"employee_diff\"] = df_merge[\"Full-time Employees 2021\"] - df_merge[\"Full-time Employees 2020\"]\n",
    "df_merge[\"average_pay_diff\"] = df_merge[\"average_fulltime_pay 2021\"] - df_merge[\"average_fulltime_pay 2020\"]\n",
    "df_merge[\"employee_diff_pct\"] = df_merge[\"employee_diff\"] / df_merge[\"Full-time Employees 2020\"] * 100"
   ]
  },
  {
   "cell_type": "code",
   "execution_count": 60,
   "id": "political-medicaid",
   "metadata": {},
   "outputs": [
    {
     "data": {
      "text/plain": [
       "580440"
      ]
     },
     "execution_count": 60,
     "metadata": {},
     "output_type": "execute_result"
    }
   ],
   "source": [
    "df_merge[df_merge[\"Government Function\"] == \"Police Protection - Persons with Power of Arrest\"]\\\n",
    "    [\"Full-time Employees 2021\"].sum()"
   ]
  },
  {
   "cell_type": "code",
   "execution_count": 61,
   "id": "framed-header",
   "metadata": {},
   "outputs": [
    {
     "data": {
      "text/plain": [
       "587355"
      ]
     },
     "execution_count": 61,
     "metadata": {},
     "output_type": "execute_result"
    }
   ],
   "source": [
    "df_merge[df_merge[\"Government Function\"] == \"Police Protection - Persons with Power of Arrest\"]\\\n",
    "    [\"Full-time Employees 2020\"].sum()"
   ]
  },
  {
   "cell_type": "code",
   "execution_count": 63,
   "id": "threaded-payday",
   "metadata": {},
   "outputs": [
    {
     "data": {
      "text/plain": [
       "-6915"
      ]
     },
     "execution_count": 63,
     "metadata": {},
     "output_type": "execute_result"
    }
   ],
   "source": [
    "580440 - 587355 "
   ]
  },
  {
   "cell_type": "code",
   "execution_count": 70,
   "id": "current-birth",
   "metadata": {},
   "outputs": [
    {
     "data": {
      "text/plain": [
       "count    4575.000000\n",
       "mean       -1.511475\n",
       "std        29.730678\n",
       "min     -1380.000000\n",
       "25%        -1.000000\n",
       "50%         0.000000\n",
       "75%         1.000000\n",
       "max       544.000000\n",
       "Name: employee_diff, dtype: float64"
      ]
     },
     "execution_count": 70,
     "metadata": {},
     "output_type": "execute_result"
    }
   ],
   "source": [
    "df_merge[df_merge[\"Government Function\"] == \"Police Protection - Persons with Power of Arrest\"]\\\n",
    "[\"employee_diff\"].describe()"
   ]
  },
  {
   "cell_type": "code",
   "execution_count": 96,
   "id": "nasty-riverside",
   "metadata": {},
   "outputs": [
    {
     "data": {
      "text/plain": [
       "count    4547.000000\n",
       "mean             inf\n",
       "std              NaN\n",
       "min        -1.000000\n",
       "25%        -0.029742\n",
       "50%         0.000000\n",
       "75%         0.020554\n",
       "max              inf\n",
       "Name: employee_diff_pct, dtype: float64"
      ]
     },
     "execution_count": 96,
     "metadata": {},
     "output_type": "execute_result"
    }
   ],
   "source": [
    "df_merge[df_merge[\"Government Function\"] == \"Police Protection - Persons with Power of Arrest\"]\\\n",
    "[\"employee_diff_pct\"].describe()"
   ]
  },
  {
   "cell_type": "code",
   "execution_count": 74,
   "id": "alpine-pocket",
   "metadata": {},
   "outputs": [
    {
     "data": {
      "text/html": [
       "<div>\n",
       "<style scoped>\n",
       "    .dataframe tbody tr th:only-of-type {\n",
       "        vertical-align: middle;\n",
       "    }\n",
       "\n",
       "    .dataframe tbody tr th {\n",
       "        vertical-align: top;\n",
       "    }\n",
       "\n",
       "    .dataframe thead th {\n",
       "        text-align: right;\n",
       "    }\n",
       "</style>\n",
       "<table border=\"1\" class=\"dataframe\">\n",
       "  <thead>\n",
       "    <tr style=\"text-align: right;\">\n",
       "      <th></th>\n",
       "      <th>State</th>\n",
       "      <th>Type of Government</th>\n",
       "      <th>Name of Government</th>\n",
       "      <th>Government Function</th>\n",
       "      <th>Full-time Employees 2021</th>\n",
       "      <th>Full-time Payroll 2021</th>\n",
       "      <th>average_fulltime_pay 2021</th>\n",
       "      <th>Full-time Employees 2020</th>\n",
       "      <th>Full-time Payroll 2020</th>\n",
       "      <th>average_fulltime_pay 2020</th>\n",
       "      <th>employee_diff</th>\n",
       "      <th>average_pay_diff</th>\n",
       "    </tr>\n",
       "  </thead>\n",
       "  <tbody>\n",
       "    <tr>\n",
       "      <th>51192</th>\n",
       "      <td>New York</td>\n",
       "      <td>Municipality</td>\n",
       "      <td>New York</td>\n",
       "      <td>Police Protection - Persons with Power of Arrest</td>\n",
       "      <td>34875</td>\n",
       "      <td>261931681</td>\n",
       "      <td>7510.585835</td>\n",
       "      <td>36255</td>\n",
       "      <td>286581907</td>\n",
       "      <td>7904.617487</td>\n",
       "      <td>-1380</td>\n",
       "      <td>-394.031652</td>\n",
       "    </tr>\n",
       "  </tbody>\n",
       "</table>\n",
       "</div>"
      ],
      "text/plain": [
       "          State Type of Government Name of Government  \\\n",
       "51192  New York       Municipality           New York   \n",
       "\n",
       "                                    Government Function  \\\n",
       "51192  Police Protection - Persons with Power of Arrest   \n",
       "\n",
       "       Full-time Employees 2021  Full-time Payroll 2021  \\\n",
       "51192                     34875               261931681   \n",
       "\n",
       "       average_fulltime_pay 2021  Full-time Employees 2020  \\\n",
       "51192                7510.585835                     36255   \n",
       "\n",
       "       Full-time Payroll 2020  average_fulltime_pay 2020  employee_diff  \\\n",
       "51192               286581907                7904.617487          -1380   \n",
       "\n",
       "       average_pay_diff  \n",
       "51192       -394.031652  "
      ]
     },
     "execution_count": 74,
     "metadata": {},
     "output_type": "execute_result"
    }
   ],
   "source": [
    "df_merge[df_merge[\"employee_diff\"] == -1380.000000]"
   ]
  },
  {
   "cell_type": "code",
   "execution_count": 79,
   "id": "private-empire",
   "metadata": {},
   "outputs": [
    {
     "data": {
      "text/plain": [
       "-0.03806371534960695"
      ]
     },
     "execution_count": 79,
     "metadata": {},
     "output_type": "execute_result"
    }
   ],
   "source": [
    "-1380/36255"
   ]
  },
  {
   "cell_type": "code",
   "execution_count": 77,
   "id": "quiet-grant",
   "metadata": {},
   "outputs": [
    {
     "data": {
      "text/html": [
       "<div>\n",
       "<style scoped>\n",
       "    .dataframe tbody tr th:only-of-type {\n",
       "        vertical-align: middle;\n",
       "    }\n",
       "\n",
       "    .dataframe tbody tr th {\n",
       "        vertical-align: top;\n",
       "    }\n",
       "\n",
       "    .dataframe thead th {\n",
       "        text-align: right;\n",
       "    }\n",
       "</style>\n",
       "<table border=\"1\" class=\"dataframe\">\n",
       "  <thead>\n",
       "    <tr style=\"text-align: right;\">\n",
       "      <th></th>\n",
       "      <th>State</th>\n",
       "      <th>Type of Government</th>\n",
       "      <th>Name of Government</th>\n",
       "      <th>Government Function</th>\n",
       "      <th>Full-time Employees 2021</th>\n",
       "      <th>Full-time Payroll 2021</th>\n",
       "      <th>average_fulltime_pay 2021</th>\n",
       "      <th>Full-time Employees 2020</th>\n",
       "      <th>Full-time Payroll 2020</th>\n",
       "      <th>average_fulltime_pay 2020</th>\n",
       "      <th>employee_diff</th>\n",
       "      <th>average_pay_diff</th>\n",
       "    </tr>\n",
       "  </thead>\n",
       "  <tbody>\n",
       "    <tr>\n",
       "      <th>69953</th>\n",
       "      <td>Texas</td>\n",
       "      <td>Municipality</td>\n",
       "      <td>Houston</td>\n",
       "      <td>Police Protection - Persons with Power of Arrest</td>\n",
       "      <td>5825</td>\n",
       "      <td>44276456</td>\n",
       "      <td>7601.108326</td>\n",
       "      <td>5281</td>\n",
       "      <td>33847742</td>\n",
       "      <td>6409.343306</td>\n",
       "      <td>544</td>\n",
       "      <td>1191.76502</td>\n",
       "    </tr>\n",
       "  </tbody>\n",
       "</table>\n",
       "</div>"
      ],
      "text/plain": [
       "       State Type of Government Name of Government  \\\n",
       "69953  Texas       Municipality            Houston   \n",
       "\n",
       "                                    Government Function  \\\n",
       "69953  Police Protection - Persons with Power of Arrest   \n",
       "\n",
       "       Full-time Employees 2021  Full-time Payroll 2021  \\\n",
       "69953                      5825                44276456   \n",
       "\n",
       "       average_fulltime_pay 2021  Full-time Employees 2020  \\\n",
       "69953                7601.108326                      5281   \n",
       "\n",
       "       Full-time Payroll 2020  average_fulltime_pay 2020  employee_diff  \\\n",
       "69953                33847742                6409.343306            544   \n",
       "\n",
       "       average_pay_diff  \n",
       "69953        1191.76502  "
      ]
     },
     "execution_count": 77,
     "metadata": {},
     "output_type": "execute_result"
    }
   ],
   "source": [
    "df_merge[df_merge[\"employee_diff\"] == 544.000000]"
   ]
  },
  {
   "cell_type": "code",
   "execution_count": 78,
   "id": "cloudy-ranch",
   "metadata": {},
   "outputs": [
    {
     "data": {
      "text/plain": [
       "0.10301079341033895"
      ]
     },
     "execution_count": 78,
     "metadata": {},
     "output_type": "execute_result"
    }
   ],
   "source": [
    "544/5281"
   ]
  },
  {
   "cell_type": "code",
   "execution_count": 94,
   "id": "lyric-adobe",
   "metadata": {},
   "outputs": [
    {
     "data": {
      "text/plain": [
       "<AxesSubplot:xlabel='employee_diff', ylabel='Count'>"
      ]
     },
     "execution_count": 94,
     "metadata": {},
     "output_type": "execute_result"
    },
    {
     "data": {
      "image/png": "[encoded data removed]",
      "text/plain": [
       "<Figure size 432x288 with 1 Axes>"
      ]
     },
     "metadata": {},
     "output_type": "display_data"
    }
   ],
   "source": [
    "sns.histplot(data=df_merge[df_merge[\"Government Function\"] == \"Police Protection - Persons with Power of Arrest\"],\\\n",
    "             x=\"employee_diff\", binwidth=10)"
   ]
  },
  {
   "cell_type": "code",
   "execution_count": 106,
   "id": "permanent-foster",
   "metadata": {},
   "outputs": [
    {
     "data": {
      "text/plain": [
       "<AxesSubplot:xlabel='employee_diff_pct', ylabel='Count'>"
      ]
     },
     "execution_count": 106,
     "metadata": {},
     "output_type": "execute_result"
    },
    {
     "data": {
      "image/png": "[encoded data removed]",
      "text/plain": [
       "<Figure size 432x288 with 1 Axes>"
      ]
     },
     "metadata": {},
     "output_type": "display_data"
    }
   ],
   "source": [
    "sns.histplot(data=df_merge[(df_merge[\"Government Function\"] == \"Police Protection - Persons with Power of Arrest\") &\\\n",
    "                          (df_merge[\"employee_diff_pct\"] != numpy.Inf)],\\\n",
    "             x=\"employee_diff_pct\", binwidth = 2)"
   ]
  },
  {
   "cell_type": "code",
   "execution_count": 110,
   "id": "earlier-milwaukee",
   "metadata": {},
   "outputs": [
    {
     "data": {
      "text/plain": [
       "(1352, 13)"
      ]
     },
     "execution_count": 110,
     "metadata": {},
     "output_type": "execute_result"
    }
   ],
   "source": [
    "df_merge[(df_merge[\"Government Function\"] == \"Police Protection - Persons with Power of Arrest\") &\\\n",
    "        (df_merge[\"employee_diff\"] > 0)].shape"
   ]
  },
  {
   "cell_type": "code",
   "execution_count": 111,
   "id": "corrected-middle",
   "metadata": {},
   "outputs": [
    {
     "data": {
      "text/plain": [
       "(1674, 13)"
      ]
     },
     "execution_count": 111,
     "metadata": {},
     "output_type": "execute_result"
    }
   ],
   "source": [
    "df_merge[(df_merge[\"Government Function\"] == \"Police Protection - Persons with Power of Arrest\") &\\\n",
    "        (df_merge[\"employee_diff\"] < 0)].shape"
   ]
  },
  {
   "cell_type": "code",
   "execution_count": 112,
   "id": "false-consortium",
   "metadata": {},
   "outputs": [
    {
     "data": {
      "text/plain": [
       "(1549, 13)"
      ]
     },
     "execution_count": 112,
     "metadata": {},
     "output_type": "execute_result"
    }
   ],
   "source": [
    "df_merge[(df_merge[\"Government Function\"] == \"Police Protection - Persons with Power of Arrest\") &\\\n",
    "        (df_merge[\"employee_diff\"] == 0)].shape"
   ]
  }
 ],
 "metadata": {
  "kernelspec": {
   "display_name": "Python 3 (ipykernel)",
   "language": "python",
   "name": "python3"
  },
  "language_info": {
   "codemirror_mode": {
    "name": "ipython",
    "version": 3
   },
   "file_extension": ".py",
   "mimetype": "text/x-python",
   "name": "python",
   "nbconvert_exporter": "python",
   "pygments_lexer": "ipython3",
   "version": "3.9.12"
  }
 },
 "nbformat": 4,
 "nbformat_minor": 5
}
