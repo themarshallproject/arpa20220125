{
 "cells": [
  {
   "cell_type": "code",
   "execution_count": 1,
   "id": "cutting-brighton",
   "metadata": {},
   "outputs": [],
   "source": [
    "import pandas as pd"
   ]
  },
  {
   "cell_type": "code",
   "execution_count": 2,
   "id": "coordinate-villa",
   "metadata": {},
   "outputs": [],
   "source": [
    "df = pd.read_csv(\"source_data/expenditure_summary.csv\")"
   ]
  },
  {
   "cell_type": "code",
   "execution_count": 6,
   "id": "based-ferry",
   "metadata": {},
   "outputs": [
    {
     "data": {
      "text/plain": [
       "3.11 Housing Support: Services for Unhoused persons                                                                    3776\n",
       "5.5 Clean Water: Other sewer infrastructure                                                                            3776\n",
       "3.9 Healthy Childhood Environments: Other                                                                              3776\n",
       "3.1 Education Assistance: Early Learning                                                                               3776\n",
       "7.5 Transfers to Non-UGLGs                                                                                             3776\n",
       "5.14 Drinking water: Storage                                                                                           3776\n",
       "2.2 Household Assistance: Rent, Mortgage, and Utility Aid                                                              3776\n",
       "3.13 Social Determinants of Health: Other                                                                              3776\n",
       "3.8 Healthy Childhood Environments: Services to Foster Youth or Families Involved in Child Welfare System              3776\n",
       "1.1 COVID-19 Vaccination                                                                                               3776\n",
       "5.3 Clean Water: Decentralized wastewater                                                                              3776\n",
       "1.5 Personal Protective Equipment                                                                                      3776\n",
       "1.11 Substance Use Services                                                                                            3776\n",
       "2.14 Rehiring Public Sector Staff                                                                                      3776\n",
       "7.3 Transfers to Other Units of Government                                                                             3776\n",
       "5.4 Clean Water: Combined sewer overflows                                                                              3776\n",
       "5.12 Drinking water: Transmission and distribution: lead remediation                                                   3776\n",
       "2.10 Aid to nonprofit organizations                                                                                    3776\n",
       "6.1 Provision of Government Services                                                                                   3776\n",
       "7.4 Transfers to Nonentitlement Units (NEU)                                                                            3776\n",
       "2.3 Household Assistance: Cash Transfers                                                                               3776\n",
       "7.1 Administrative Expenses                                                                                            3776\n",
       "3.4 Education Assistance: Social, Emotional, and Mental Health Services                                                3776\n",
       "2.8 Contributions to UI Trust Funds                                                                                    3776\n",
       "2.7 Job Training Assistance (e.g., Sectoral job-training, Subsidized Employment, Employment Supports or Incentives)    3776\n",
       "1.4 Prevention in Congregate Settings (Nursing Homes, Prisons/Jails, Dense Work Sites, Schools, etc.)                  3776\n",
       "3.6 Healthy Childhood Environments: Child Care                                                                         3776\n",
       "1.2 COVID-19 Testing                                                                                                   3776\n",
       "5.13 Drinking water: Source                                                                                            3776\n",
       "3.2 Education Assistance: Aid to High-Poverty Districts                                                                3776\n",
       "7.2 Evaluation and data analysis                                                                                       3776\n",
       "5.11 Drinking water: Transmission and distribution                                                                     3776\n",
       "2.13 Other Economic Support                                                                                            3776\n",
       "3.15 Social Determinants of Health: Lead Remediation                                                                   3776\n",
       "1.10 Mental Health Services                                                                                            3776\n",
       "1.9 Payroll Costs for Public Health, Safety, and Other Public Sector Staff Responding to COVID-19                      3776\n",
       "3.16 Social Determinants of Health: Community Violence Interventions                                                   3776\n",
       "3.12 Housing Support: Other Housing Assistance                                                                         3776\n",
       "1.3 COVID-19 Contact Tracing                                                                                           3776\n",
       "2.4 Household Assistance: Internet Access Programs                                                                     3776\n",
       "5.17 Broadband: Other projects                                                                                         3776\n",
       "2.5 Household Assistance: Eviction Prevention                                                                          3776\n",
       "3.10 Housing Support: Affordable Housing                                                                               3776\n",
       "1.12 Other Public Health Services                                                                                      3776\n",
       "3.7 Healthy Childhood Environments: Home Visiting                                                                      3776\n",
       "1.8 Other COVID-19 Public Health Expenses (including Communications, Enforcement, Isolation/Quarantine)                3776\n",
       "4.1 Public Sector Employees                                                                                            3776\n",
       "5.2 Clean Water: Centralized wastewater collection and conveyance                                                      3776\n",
       "1.6 Medical Expenses (including Alternative Care Facilities)                                                           3776\n",
       "5.6 Clean Water: Stormwater                                                                                            3776\n",
       "Name: Category, dtype: int64"
      ]
     },
     "execution_count": 6,
     "metadata": {},
     "output_type": "execute_result"
    }
   ],
   "source": [
    "df[\"Category\"].value_counts().tail(50)"
   ]
  },
  {
   "cell_type": "code",
   "execution_count": null,
   "id": "norwegian-primary",
   "metadata": {},
   "outputs": [],
   "source": []
  }
 ],
 "metadata": {
  "kernelspec": {
   "display_name": "Python 3.8.9 64-bit",
   "language": "python",
   "name": "python3"
  },
  "language_info": {
   "codemirror_mode": {
    "name": "ipython",
    "version": 3
   },
   "file_extension": ".py",
   "mimetype": "text/x-python",
   "name": "python",
   "nbconvert_exporter": "python",
   "pygments_lexer": "ipython3",
   "version": "3.8.9"
  },
  "vscode": {
   "interpreter": {
    "hash": "31f2aee4e71d21fbe5cf8b01ff0e069b9275f58929596ceb00d14d90e3e16cd6"
   }
  }
 },
 "nbformat": 4,
 "nbformat_minor": 5
}
