{
 "cells": [
  {
   "cell_type": "code",
   "execution_count": 1,
   "id": "4f7c74ff",
   "metadata": {},
   "outputs": [],
   "source": [
    "import pandas as pd\n",
    "\n",
    "\n",
    "df1 = pd.read_excel('source_data/SLFRF-2021.xlsx', 'Project Updated', skiprows=0, index_col=0)\n",
    "df2 = pd.read_excel('source_data/arpaQ12022.xlsx', 'Projects', skiprows=0, index_col=0)\n",
    "\n",
    "df = df1.merge(df2, how = 'outer' ,indicator=True).loc[lambda x : x['_merge']=='left_only']"
   ]
  },
  {
   "cell_type": "code",
   "execution_count": 3,
   "id": "3c9f78ad",
   "metadata": {},
   "outputs": [
    {
     "name": "stdout",
     "output_type": "stream",
     "text": [
      "<class 'pandas.core.frame.DataFrame'>\n",
      "Int64Index: 11795 entries, 0 to 13078\n",
      "Data columns (total 33 columns):\n",
      " #   Column                                                                                     Non-Null Count  Dtype   \n",
      "---  ------                                                                                     --------------  -----   \n",
      " 0   Recipient Name                                                                             11795 non-null  object  \n",
      " 1   State/Territory                                                                            11795 non-null  object  \n",
      " 2   Reporting Tier                                                                             11795 non-null  object  \n",
      " 3   Recipient Type                                                                             11795 non-null  object  \n",
      " 4   Project Name                                                                               11779 non-null  object  \n",
      " 5   Expenditure Category Group                                                                 11795 non-null  object  \n",
      " 6   Expenditure Category                                                                       11795 non-null  object  \n",
      " 7   Project Description                                                                        11782 non-null  object  \n",
      " 8   Adopted Budget                                                                             8000 non-null   float64 \n",
      " 9   Total Obligations                                                                          11795 non-null  float64 \n",
      " 10  Total Expenditures                                                                         11795 non-null  float64 \n",
      " 11  Number of Households Served (Select ECs Only)                                              247 non-null    float64 \n",
      " 12  Number of Workers Served (Select ECs Only)                                                 346 non-null    float64 \n",
      " 13  Number of Gov FTE Supported                                                                382 non-null    float64 \n",
      " 14  Community benefit agreement? (Infra Only)                                                  356 non-null    object  \n",
      " 15  Complying with David Bacon? (Infra Only)                                                   35 non-null     object  \n",
      " 16  Project labor agreement? (Infra Only)                                                      35 non-null     object  \n",
      " 17  Total Cumulative Obligations                                                               0 non-null      float64 \n",
      " 18  Total Cumulative Expenditures                                                              0 non-null      float64 \n",
      " 19  Number of Households Served (Select Expenditure Categories Only)                           0 non-null      float64 \n",
      " 20  Number of Workers Served (Select Expenditure Categories Only)                              0 non-null      float64 \n",
      " 21  Number of Gov FTE Responding to COVID-19 (Select Expenditure Categories Only)              0 non-null      object  \n",
      " 22  Number of Gov FTE Rehired (Select Expenditure Categories Only)                             0 non-null      object  \n",
      " 23  Community benefit agreement? (Infrastructure Only)                                         0 non-null      object  \n",
      " 24  Complying with David Bacon? (Infrastructure Only)                                          0 non-null      object  \n",
      " 25  Project labor agreement? (Infrastructure Only)                                             0 non-null      object  \n",
      " 26  Does the Project have Capital Expenditures? (Yes/No) (Select Expenditure Categories Only)  0 non-null      object  \n",
      " 27  Type of Capital Expenditures (Select Expenditure Categories Only)                          0 non-null      object  \n",
      " 28  Total Expected Cost of Capital Expenditures (Select Expenditure Categories Only)           0 non-null      float64 \n",
      " 29  Primary Demographic Served (Select Expenditure Categories Only)                            0 non-null      object  \n",
      " 30  Secondary Demographic Served (Select Expenditure Categories Only)                          0 non-null      object  \n",
      " 31  Tertiary Demographic Served (Select Expenditure Categories Only)                           0 non-null      object  \n",
      " 32  _merge                                                                                     11795 non-null  category\n",
      "dtypes: category(1), float64(11), object(21)\n",
      "memory usage: 3.0+ MB\n"
     ]
    }
   ],
   "source": [
    "df.info()"
   ]
  },
  {
   "cell_type": "code",
   "execution_count": 5,
   "id": "ece47e35",
   "metadata": {},
   "outputs": [
    {
     "name": "stdout",
     "output_type": "stream",
     "text": [
      "<class 'pandas.core.frame.DataFrame'>\n",
      "Index: 13079 entries, SLT-0525 to SLT-2117\n",
      "Data columns (total 17 columns):\n",
      " #   Column                                         Non-Null Count  Dtype  \n",
      "---  ------                                         --------------  -----  \n",
      " 0   Recipient Name                                 13079 non-null  object \n",
      " 1   State/Territory                                13079 non-null  object \n",
      " 2   Reporting Tier                                 13079 non-null  object \n",
      " 3   Recipient Type                                 13079 non-null  object \n",
      " 4   Project Name                                   13063 non-null  object \n",
      " 5   Expenditure Category Group                     13079 non-null  object \n",
      " 6   Expenditure Category                           13079 non-null  object \n",
      " 7   Project Description                            13066 non-null  object \n",
      " 8   Adopted Budget                                 9284 non-null   float64\n",
      " 9   Total Obligations                              13079 non-null  float64\n",
      " 10  Total Expenditures                             13079 non-null  float64\n",
      " 11  Number of Households Served (Select ECs Only)  333 non-null    float64\n",
      " 12  Number of Workers Served (Select ECs Only)     415 non-null    float64\n",
      " 13  Number of Gov FTE Supported                    382 non-null    float64\n",
      " 14  Community benefit agreement? (Infra Only)      409 non-null    object \n",
      " 15  Complying with David Bacon? (Infra Only)       44 non-null     object \n",
      " 16  Project labor agreement? (Infra Only)          44 non-null     object \n",
      "dtypes: float64(6), object(11)\n",
      "memory usage: 1.8+ MB\n"
     ]
    }
   ],
   "source": [
    "df1.info()"
   ]
  },
  {
   "cell_type": "code",
   "execution_count": 6,
   "id": "8d094f2d",
   "metadata": {},
   "outputs": [
    {
     "name": "stdout",
     "output_type": "stream",
     "text": [
      "<class 'pandas.core.frame.DataFrame'>\n",
      "Index: 43475 entries, Abbeville County, South Carolina-SLT-1900 to Zurich city-KDNEU 713\n",
      "Data columns (total 24 columns):\n",
      " #   Column                                                                                     Non-Null Count  Dtype  \n",
      "---  ------                                                                                     --------------  -----  \n",
      " 0   Recipient Name                                                                             43475 non-null  object \n",
      " 1   State/Territory                                                                            43475 non-null  object \n",
      " 2   Reporting Tier                                                                             43475 non-null  object \n",
      " 3   Recipient Type                                                                             43475 non-null  object \n",
      " 4   Project Name                                                                               43470 non-null  object \n",
      " 5   Expenditure Category Group                                                                 43475 non-null  object \n",
      " 6   Expenditure Category                                                                       43475 non-null  object \n",
      " 7   Project Description                                                                        43472 non-null  object \n",
      " 8   Adopted Budget                                                                             43475 non-null  float64\n",
      " 9   Total Cumulative Obligations                                                               43475 non-null  float64\n",
      " 10  Total Cumulative Expenditures                                                              43475 non-null  float64\n",
      " 11  Number of Households Served (Select Expenditure Categories Only)                           784 non-null    float64\n",
      " 12  Number of Workers Served (Select Expenditure Categories Only)                              1385 non-null   float64\n",
      " 13  Number of Gov FTE Responding to COVID-19 (Select Expenditure Categories Only)              550 non-null    object \n",
      " 14  Number of Gov FTE Rehired (Select Expenditure Categories Only)                             120 non-null    object \n",
      " 15  Community benefit agreement? (Infrastructure Only)                                         43475 non-null  object \n",
      " 16  Complying with David Bacon? (Infrastructure Only)                                          43475 non-null  object \n",
      " 17  Project labor agreement? (Infrastructure Only)                                             43475 non-null  object \n",
      " 18  Does the Project have Capital Expenditures? (Yes/No) (Select Expenditure Categories Only)  12589 non-null  object \n",
      " 19  Type of Capital Expenditures (Select Expenditure Categories Only)                          2650 non-null   object \n",
      " 20  Total Expected Cost of Capital Expenditures (Select Expenditure Categories Only)           2923 non-null   float64\n",
      " 21  Primary Demographic Served (Select Expenditure Categories Only)                            43475 non-null  object \n",
      " 22  Secondary Demographic Served (Select Expenditure Categories Only)                          43475 non-null  object \n",
      " 23  Tertiary Demographic Served (Select Expenditure Categories Only)                           43475 non-null  object \n",
      "dtypes: float64(6), object(18)\n",
      "memory usage: 8.3+ MB\n"
     ]
    }
   ],
   "source": [
    "df2.info()"
   ]
  },
  {
   "cell_type": "code",
   "execution_count": null,
   "id": "5a96eac8",
   "metadata": {},
   "outputs": [],
   "source": []
  }
 ],
 "metadata": {
  "kernelspec": {
   "display_name": "Python 3 (ipykernel)",
   "language": "python",
   "name": "python3"
  },
  "language_info": {
   "codemirror_mode": {
    "name": "ipython",
    "version": 3
   },
   "file_extension": ".py",
   "mimetype": "text/x-python",
   "name": "python",
   "nbconvert_exporter": "python",
   "pygments_lexer": "ipython3",
   "version": "3.8.9"
  }
 },
 "nbformat": 4,
 "nbformat_minor": 5
}
