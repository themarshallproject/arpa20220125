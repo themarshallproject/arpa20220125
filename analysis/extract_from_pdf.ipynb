{
 "cells": [
  {
   "cell_type": "code",
   "execution_count": 54,
   "id": "entire-bunny",
   "metadata": {},
   "outputs": [],
   "source": [
    "# importing required modules \n",
    "import PyPDF2 \n",
    "import glob\n",
    "import pandas as pd"
   ]
  },
  {
   "cell_type": "code",
   "execution_count": 31,
   "id": "tamil-detection",
   "metadata": {},
   "outputs": [],
   "source": [
    "pdfs = glob.glob(\"output_data/pdfs/*.pdf\")"
   ]
  },
  {
   "cell_type": "code",
   "execution_count": 41,
   "id": "concerned-detective",
   "metadata": {},
   "outputs": [
    {
     "data": {
      "text/plain": [
       "346"
      ]
     },
     "execution_count": 41,
     "metadata": {},
     "output_type": "execute_result"
    }
   ],
   "source": [
    "len(pdfs)"
   ]
  },
  {
   "cell_type": "code",
   "execution_count": 46,
   "id": "conscious-woman",
   "metadata": {},
   "outputs": [],
   "source": [
    "pdfs.remove(\"output_data/pdfs/Oakland_2021-Recovery-Plan_SLT-0769.pdf\")"
   ]
  },
  {
   "cell_type": "code",
   "execution_count": 49,
   "id": "civic-navigation",
   "metadata": {},
   "outputs": [],
   "source": [
    "pdfs.remove(\"output_data/pdfs/Cumberland-County_2021-Recovery-Plan_SLT-1353.pdf\")"
   ]
  },
  {
   "cell_type": "code",
   "execution_count": 47,
   "id": "limited-marker",
   "metadata": {},
   "outputs": [
    {
     "data": {
      "text/plain": [
       "345"
      ]
     },
     "execution_count": 47,
     "metadata": {},
     "output_type": "execute_result"
    }
   ],
   "source": [
    "len(pdfs)"
   ]
  },
  {
   "cell_type": "code",
   "execution_count": 52,
   "id": "genuine-queensland",
   "metadata": {},
   "outputs": [
    {
     "name": "stdout",
     "output_type": "stream",
     "text": [
      "output_data/pdfs/Bernalillo-County_2021-Recovery-Plan_SLT-0552.pdf\n",
      "output_data/pdfs/Union-County_2021-Recovery-Plan_SLT-1461.pdf\n",
      "output_data/pdfs/Franklin-County_2021-Recovery-Plan_SLT-2870.pdf\n",
      "output_data/pdfs/Lancaster-County_2021-Recovery-Plan_SLT-0633.pdf\n",
      "output_data/pdfs/Denton-County_2021-Recovery-Plan_SLT-0614.pdf\n",
      "output_data/pdfs/Long-Beach_2021-Recovery-Plan_SLT-0553.pdf\n",
      "output_data/pdfs/Oregon_2021-Recovery-Plan_SLT-8455.pdf\n",
      "output_data/pdfs/Wake-County_2021-Recovery-Plan_SLT-0645.pdf\n",
      "output_data/pdfs/Washington-County_2021-Recovery-Plan_SLT-1270.pdf\n",
      "output_data/pdfs/Massachusetts_2021-Recovery-Plan_SLT-3324.pdf\n",
      "output_data/pdfs/Monroe-County_2021-Recovery-Plan_SLT-0589.pdf\n",
      "output_data/pdfs/Essex-County_2021-Recovery-Plan_SLT-0807.pdf\n",
      "output_data/pdfs/Stanislaus-County_2021-Recovery-Plan_SLT-1235.pdf\n",
      "output_data/pdfs/Portland_2021-Recovery-Plan_SLT-0967.pdf\n",
      "output_data/pdfs/Henderson_2021-Recovery-Plan_SLT-0569.pdf\n",
      "output_data/pdfs/Buncombe-County_2021-Recovery-Plan_SLT-1326.pdf\n",
      "output_data/pdfs/Bell-County_2021-Recovery-Plan_SLT-3274.pdf\n",
      "output_data/pdfs/Durham_2021-Recovery-Plan_SLT-2914.pdf\n",
      "output_data/pdfs/Scottsdale_2021-Recovery-Plan_SLT-3402.pdf\n",
      "output_data/pdfs/Dakota-County_2021-Recovery-Plan_SLT-2196.pdf\n",
      "output_data/pdfs/Miami_2021-Recovery-Plan_SLT-1555.pdf\n",
      "output_data/pdfs/Guilford-County_2021-Recovery-Plan_SLT-3830.pdf\n",
      "output_data/pdfs/Greene-County_2021-Recovery-Plan_SLT-0887.pdf\n",
      "output_data/pdfs/Boston_2021-Recovery-Plan_SLT-0542.pdf\n",
      "output_data/pdfs/Collier-County_2021-Recovery-Plan_SLT-1155.pdf\n",
      "output_data/pdfs/Richland_2021-Recovery-Plan_SLT-3398.pdf\n",
      "output_data/pdfs/Mesa_2021-Recovery-Plan_SLT-1240.pdf\n",
      "output_data/pdfs/Washoe-County_2021-Recovery-Plan_SLT-0610.pdf\n",
      "output_data/pdfs/North-Las-Vegas_2021-Recovery-Plan_SLT-1086.pdf\n",
      "output_data/pdfs/Chesterfield-County_2021-Recovery-Plan_SLT-5216.pdf\n",
      "output_data/pdfs/Municipality-of-Anchorage-County-2021-Recovery-Plan-SLT-6436.pdf\n",
      "output_data/pdfs/Baton-Rouge_2021-Recovery-Plan_SLT-6444.pdf\n",
      "output_data/pdfs/Georgia_2021-Recovery-Plan_SLT-1189.pdf\n",
      "output_data/pdfs/San-Joaquin-County_2021-Recovery-Plan_SLT-1293.pdf\n",
      "output_data/pdfs/Plymouth-County_2021-Recovery-Plan_SLT-8192.pdf\n",
      "output_data/pdfs/Anaheim_2021-Recovery-Plan_SLT-2141.pdf\n",
      "output_data/pdfs/Greenville-County_2021-Recovery-Plan_SLT-0618.pdf\n",
      "output_data/pdfs/Lane-County_2021-Recovery-Plan_SLT-0586.pdf\n",
      "output_data/pdfs/Santa-Clara_2021-Recovery-Plan_SLT-1563.pdf\n",
      "output_data/pdfs/Connecticut_2021-Recovery-Plan_SLT-1468.pdf\n",
      "output_data/pdfs/Polk-County_2021-Recovery-Plan_SLT-1950.pdf\n",
      "output_data/pdfs/Polk-County_2021-Recovery-Plan_SLT-1944.pdf\n",
      "output_data/pdfs/Milwaukee-County_2021-Recovery-Plan_SLT-0577.pdf\n",
      "output_data/pdfs/Salt-Lake-County_2021-Recovery-Plan_SLT-2010.pdf\n",
      "output_data/pdfs/Buffalo_2021-Recovery-Plan_SLT-4011.pdf\n",
      "output_data/pdfs/Nebraska_2021-Recovery-Plan_SLT-2222.pdf\n",
      "output_data/pdfs/Kansas-City_2021-Recovery-Plan_SLT-0826.pdf\n",
      "output_data/pdfs/Orlando_2021-Recovery-Plan_SLT-0791.pdf\n",
      "output_data/pdfs/Passaic-County_2021-Recovery-Plan_SLT-0903.pdf\n",
      "output_data/pdfs/Honolulu_2021%20Recovery%20Plan_SLT-1039.pdf\n",
      "output_data/pdfs/Chatham-County_2021-Recovery-Plan_SLT-0636.pdf\n",
      "output_data/pdfs/Thurston-County_2021-Recovery-Plan_SLT-0728.pdf\n",
      "output_data/pdfs/Hamilton-County_2021-Recovery-Plan_SLT-3193.pdf\n",
      "output_data/pdfs/Rhode-Island_2021-Recovery-Plan_SLT-0547.pdf\n",
      "output_data/pdfs/Sonoma-County_2021-Recovery-Plan_SLT-0757.pdf\n",
      "output_data/pdfs/Gilbert_2021-Recovery-Plan_SLT-4369.pdf\n",
      "output_data/pdfs/Cook-County_2021-Recovery-Plan_SLT-1116.pdf\n",
      "output_data/pdfs/Prince-George%26%23039%3Bs-County_2021-Recovery-Plan_SLT-4581.pdf\n",
      "output_data/pdfs/DuPage-County_2021-Recovery-Plan_SLT-0912.pdf\n",
      "output_data/pdfs/Ramsey-County_2021-Recovery-Plan_SLT-0622.pdf\n",
      "output_data/pdfs/Travis-County_2021-Recovery-Plan_SLT-0665.pdf\n",
      "output_data/pdfs/Michigan_2021-Recovery-Plan_SLT-2423.pdf\n",
      "output_data/pdfs/San-Diego-County_2021-Recovery-Plan_SLT-1146.pdf\n",
      "output_data/pdfs/Somerset-County_2021-Recovery-Plan_SLT-2841.pdf\n",
      "output_data/pdfs/Escambia-County_2021-Recovery-Plan_SLT-0959.pdf\n",
      "output_data/pdfs/Cameron-County_2021-Recovery-Plan_SLT-2044.pdf\n",
      "output_data/pdfs/Nevada_2021-Recovery-Plan_SLT-4956.pdf\n",
      "output_data/pdfs/Clayton-County_2021-Recovery-Plan_SLT-0926.pdf\n",
      "output_data/pdfs/Douglas-County_2021-Recovery-Plan_SLT-0820.pdf\n",
      "output_data/pdfs/Ada-County_2021-Recovery-Plan_SLT-4569.pdf\n",
      "output_data/pdfs/Harford-County_2021-Recovery-Plan_SLT-2257.pdf\n",
      "output_data/pdfs/Pierce-County_2021-Recovery-Plan_SLT-0604.pdf\n",
      "output_data/pdfs/Fort-Wayne_2021-Recovery-Plan_SLT-1343.pdf\n",
      "output_data/pdfs/Delaware-County_2021-Recovery-Plan_SLT-0751.pdf\n",
      "output_data/pdfs/Bristol-County_2021-Recovery-Plan_SLT-6876.pdf\n",
      "output_data/pdfs/Shelby-County_2021-Recovery-Plan_SLT-0535.pdf\n",
      "output_data/pdfs/Detroit_2021-Recovery-Plan_SLT-1327.pdf\n",
      "output_data/pdfs/St-Clair-County_2021-Recovery-Plan_SLT-1230.pdf\n",
      "output_data/pdfs/Marin-County_2021-Recovery-Plan_SLT-3128.pdf\n",
      "output_data/pdfs/Madison-County_2021-Recovery-Plan_SLT-1912.pdf\n",
      "output_data/pdfs/Lee-County_2021-Recovery-Plan_SLT-2390.pdf\n",
      "output_data/pdfs/City%20of%20Jacksonville_2021%20Recovery%20Plan_SLT-2647.pdf\n",
      "output_data/pdfs/Monmouth-County_2021-Recovery-Plan_SLT-0540.pdf\n",
      "output_data/pdfs/Santa-Ana_2021-Recovery-Plan_SLT-2703.pdf\n",
      "output_data/pdfs/Dallas_2021-Recovery-Plan_SLT-1204.pdf\n",
      "output_data/pdfs/Burlington-County_2021-Recovery-Plan_SLT-1453.pdf\n",
      "output_data/pdfs/Sacramento-County_2021-Recovery-Plan_SLT-1548.pdf\n",
      "output_data/pdfs/Genesee-County_2021-Recovery-Plan_SLT-1765.pdf\n",
      "output_data/pdfs/El-Paso_2021-Recovery-Plan_SLT-1278.pdf\n",
      "output_data/pdfs/Loudoun-County_2021-Recovery-Plan_SLT-0722.pdf\n",
      "output_data/pdfs/Jersey-City_2021-Recovery-Plan_SLT-3254.pdf\n",
      "output_data/pdfs/Volusia-County_2021-Recovery-Plan_SLT-0639.pdf\n",
      "output_data/pdfs/McHenry-County_2021-Recovery-Plan_SLT-0585.pdf\n",
      "output_data/pdfs/Kane-County_2021-Recovery-Plan_SLT-1358.pdf\n",
      "output_data/pdfs/Baltimore-County_2021-Recovery-Plan_SLT-2171.pdf\n",
      "output_data/pdfs/Cumberland-County_2021-Recovery-Plan_SLT-0709.pdf\n",
      "output_data/pdfs/Howard-County_2021-Recovery-Plan_SLT-2734.pdf\n",
      "output_data/pdfs/Brookhaven_2021-Recovery-Plan_SLT-4469.pdf\n",
      "output_data/pdfs/Henrico-Country_2021-Recovery-Plan_SLT-8485.pdf\n",
      "output_data/pdfs/Camden-County_2021-Recovery-Plan_SLT-1579.pdf\n",
      "output_data/pdfs/Tampa_2021-Recovery-Plan_SLT-0524.pdf\n",
      "output_data/pdfs/Wayne-County_2021-Recovery-Plan_SLT-3001.pdf\n",
      "output_data/pdfs/Hidalgo-County_2021-Recovery-Plan_SLT-3700.pdf\n",
      "output_data/pdfs/Nashville-Davidson_2021-Recovery-Plan_SLT-1079.pdf\n",
      "output_data/pdfs/Onondaga-County_2021-Recovery-Plan_SLT-0780.pdf\n",
      "output_data/pdfs/Leon-County_2021-Recovery-Plan_SLT-0984.pdf\n",
      "output_data/pdfs/Kansas_2021-Recovery-Plan_SLT-0537.pdf\n",
      "output_data/pdfs/Rutherford-County_2021-Recovery-Plan_SLT-2832.pdf\n",
      "output_data/pdfs/Alaska_2021-Recovery-Plan_SLT-0546.pdf\n",
      "output_data/pdfs/Nassau-County_2021-Recovery-Plan_SLT-1612.pdf\n",
      "output_data/pdfs/Westchester-County_2021-Recovery-Plan_SLT-0882.pdf\n",
      "output_data/pdfs/Orange-County_2021-Recovery-Plan_SLT-1998.pdf\n",
      "output_data/pdfs/El-Paso_2021-Recovery-Plan_SLT-1508.pdf\n",
      "output_data/pdfs/Prince-William-County_2021-Recovery-Plan_SLT-1144.pdf\n",
      "output_data/pdfs/Marion-County_2021-Recovery-Plan_SLT-4989.pdf\n",
      "output_data/pdfs/Solano-County_2021-Recovery-Plan_SLT-2892.pdf\n",
      "output_data/pdfs/Westmoreland-County_2021-Recovery-Plan_SLT-0708.pdf\n",
      "output_data/pdfs/St-Charles-County_2021-Recovery-Plan_SLT-3646.pdf\n",
      "output_data/pdfs/Cherokee-County_2021-Recovery-Plan_SLT-2812.pdf\n",
      "output_data/pdfs/Maryland_2021-Recovery-Plan_SLT-0958.pdf\n",
      "output_data/pdfs/St-Johns-County-2021-Recovery-Plan-SLT-8672.pdf\n",
      "output_data/pdfs/Philadelphia_2021-Recovery-Plan_SLT-0877.pdf\n",
      "output_data/pdfs/Wichita_2021-Recovery-Plana_SLT-4222.pdf\n",
      "output_data/pdfs/Dauphin-County_2021-Recovery-Plan_SLT-2767.pdf\n",
      "output_data/pdfs/District-of-Columbia_2021-Recovery-Plan_SLT-0558.pdf\n",
      "output_data/pdfs/Virgin%20Islands_2021%20Recovery%20Plan_SLT-6922.pdf\n",
      "output_data/pdfs/Tennessee_2021-Recovery-Plan_SLT-9838.pdf\n",
      "output_data/pdfs/Pasco-County_2021-Recovery-Plan_SLT-0910.pdf\n",
      "output_data/pdfs/Spartanburg-County_2021-Recovery-Plan_SLT-1399.pdf\n",
      "output_data/pdfs/West-Virginia_2021-Recovery-Plan_SLT-1603.pdf\n",
      "output_data/pdfs/Horry-County_2021-Recovery-Plan_SLT-0588.pdf\n"
     ]
    },
    {
     "name": "stdout",
     "output_type": "stream",
     "text": [
      "output_data/pdfs/Spokane-County_2021-Recovery-Plan_SLT-0525.pdf\n",
      "output_data/pdfs/New-Jersey_2021-Recovery-Plan_SLT-3280.pdf\n",
      "output_data/pdfs/Minneapolis_2021-Recovery-Plan_SLT-0825.pdf\n",
      "output_data/pdfs/Seminole-County_2021-Recovery-Plan_SLT-0548.pdf\n",
      "output_data/pdfs/Irvine_2021-Recovery-Plan_SLT-1885.pdf\n",
      "output_data/pdfs/Puerto-Rico_2021-Recovery-Plan_SLT-0669.pdf\n",
      "output_data/pdfs/Arlington_2021-Recovery-Plan_SLT-1859.pdf\n",
      "output_data/pdfs/Phoenix_2021-Recovery-Plan_SLT-0576.pdf\n",
      "output_data/pdfs/Waukesha-County_2021-Recovery-Plan_SLT-0746.pdf\n",
      "output_data/pdfs/Lucas-County_2021-Recovery-Plan_SLT-1931.pdf\n",
      "output_data/pdfs/Indiana_2021-Recovery-Plan_SLT-7683.pdf\n",
      "output_data/pdfs/Clark-County_2021-Recovery-Plan_SLT-3386.pdf\n",
      "output_data/pdfs/Hillsborough-County_2021-Recovery-Plan_SLT-0629.pdf\n",
      "output_data/pdfs/St.Louis_2021-Recovery-Plan_SLT-2835.pdf\n",
      "output_data/pdfs/Arizona_2021-Recovery-Plan_SLT-4369.pdf\n",
      "output_data/pdfs/Merced-County_2021-Recovery-Plan_SLT-2132.pdf\n",
      "output_data/pdfs/Austin_2021-Recovery-Plan_SLT-0666.pdf\n",
      "output_data/pdfs/Fulton-County_2021-Recovery-Plan_SLT-2069.pdf\n",
      "output_data/pdfs/Louisville-Jefferson-County_2021-Recovery-Plan_SLT-1749.pdf\n",
      "output_data/pdfs/Bexar-County_2021-Recovery-Plan_SLT-1167.pdf\n",
      "output_data/pdfs/Jefferson-Parish_2021-Recovery-Plan_SLT-0726.pdf\n",
      "output_data/pdfs/Hillsborough-County_2021-Recovery-Plan_SLT-3057.pdf\n",
      "output_data/pdfs/Columbus_2021-Recovery-Plan_SLT-0640.pdf\n",
      "output_data/pdfs/Lexington-Fayette-County_2021-Recovery-Plan_SLT-6571.pdf\n",
      "output_data/pdfs/Hamilton-County_2021-Recovery-Plan_SLT-1444.pdf\n",
      "output_data/pdfs/Charleston-County_2021-Recovery-Plan_SLT-0893.pdf\n",
      "output_data/pdfs/Maine_2021-Recovery-Plan_SLT-0817.pdf\n",
      "output_data/pdfs/Manatee-County_2021-Recovery-Plan_SLT-0875.pdf\n",
      "output_data/pdfs/Ohio_2021-Recovery-Plan_SLT-0803.pdf\n",
      "output_data/pdfs/Kern-County_2021-Recovery-Plan_SLT-0545.pdf\n",
      "output_data/pdfs/Ventura-County_2021-Recovery-Plan_SLT-4762.pdf\n",
      "output_data/pdfs/Weber-County_2021-Recovery-Plan_SLT-4103.pdf\n",
      "output_data/pdfs/Vermont_2021-Recovery-Plan_SLT-0873.pdf\n",
      "output_data/pdfs/Hennepin-County_2021-Recovery-Plan_SLT-0989.pdf\n",
      "output_data/pdfs/Houston_2021-Recovery-Plan_SLT-1637.pdf\n",
      "output_data/pdfs/Luzerne-County_2021-Recovery-Plan_SLT-1439.pdf\n",
      "output_data/pdfs/Middlesex-County_2021-Recovery-Plan_SLT-1313.pdf\n",
      "output_data/pdfs/Dutchess-County_2021-Recovery-Plan_SLT-3794.pdf\n",
      "output_data/pdfs/Multnomah-County_2021-Recovery-Plan_SLT-0544.pdf\n",
      "output_data/pdfs/Cincinnati_2021-Recovery-Plan_SLT-1806.pdf\n",
      "output_data/pdfs/Cleveland-County_2021-RecoverPlan_SLT-1416.pdf\n",
      "output_data/pdfs/Arkansas_2021-Recovery-Plan_SLT-6933.pdf\n",
      "output_data/pdfs/Forsyth-County_2021-Recovery-Plan_SLT-0658.pdf\n",
      "output_data/pdfs/Louisiana_2021-Recovery-Plan_SLT-0578.pdf\n",
      "output_data/pdfs/Lexington-County_2021-Recovery-Plan_SLT-2039.pdf\n",
      "output_data/pdfs/Erie-County_2021-Recovery-Plan_SLT-2621.pdf\n",
      "output_data/pdfs/Miami-Dade-County_2021-Recovery-Plan_SLT-1225.pdf\n",
      "output_data/pdfs/Colorado-Springs_2021-Recovery-Plan_SLT-0952.pdf\n",
      "output_data/pdfs/Mariana-Islands_2021-Recovery-Plan_SLT-1304.pdf\n",
      "output_data/pdfs/Palm-Beach-County_2021-Recovery-Plan_SLT-1315.pdf\n",
      "output_data/pdfs/San-Jos%C3%A9_2021-Recovery-Plan_SLT-0590.pdf\n",
      "output_data/pdfs/Pittsburgh_2021-Recovery-Plan_SLT-3483.pdf\n",
      "output_data/pdfs/Bucks-County_2021-Recovery-Plan_SLT-1405.pdf\n",
      "output_data/pdfs/Utah_2021-Recovery-Plan_SLT-0843.pdf\n",
      "output_data/pdfs/Pinal-County_2021-Recovery-Plan_SLT-2852.pdf\n",
      "output_data/pdfs/Jackson-County_2021-Recovery-Plan_SLT-2194.pdf\n",
      "output_data/pdfs/Clackamas-County_2021-Recovery-Plan_SLT-1303.pdf\n",
      "output_data/pdfs/Lancaster-County_2021-Recovery-Plan_SLT-0672.pdf\n",
      "output_data/pdfs/Pima-County_2021-Recovery-Plan_SLT-0914.pdf\n",
      "output_data/pdfs/Adams-County_2021-Recovery-Plan_SLT-0536.pdf\n",
      "output_data/pdfs/Cumberland-County_2021-Recovery-Plan_SLT-1346.pdf\n",
      "output_data/pdfs/Atlantic-County_2021-Recovery-Plan_SLT-0960.pdf\n",
      "output_data/pdfs/Virginia_2021-Recovery-Plan_SLT-0879.pdf\n",
      "output_data/pdfs/Brevard-County_2021-Recovery-Plan_SLT-2179.pdf\n",
      "output_data/pdfs/Texas_2021-Recovery-Plan_SLT-8809.pdf\n",
      "output_data/pdfs/Pennsylvania_2021-Recovery-Plan_SLT-3730.pdf\n",
      "output_data/pdfs/Butler-County_2021-Recovery-Plan_SLT-1807.pdf\n",
      "output_data/pdfs/Maricopa-County_2021-Recovery-Plan_SLT-1046.pdf\n",
      "output_data/pdfs/Weld-County_2021-Recovery-Plan_SLT-1574.pdf\n",
      "output_data/pdfs/Harris-County_2021-Recovery-Plan_SLT-0582.pdf\n",
      "output_data/pdfs/Riverside_2021-Recovery-Plan_SLT-3688.pdf\n",
      "output_data/pdfs/Arapahoe-County_2021-Recovery-Plan_SLT-0680.pdf\n",
      "output_data/pdfs/Oklahoma_2021-Recovery-Plan_SLT-8868.pdf\n",
      "output_data/pdfs/Lubbock_2021-Recovery-Plan_SLT-2595.pdf\n",
      "output_data/pdfs/New-Hampshire_2021-Recovery-Plan_SLT-1811.pdf\n",
      "output_data/pdfs/Gloucester-County_2021-Recovery-Plan_SLT-1400.pdf\n",
      "output_data/pdfs/New-York_2021-Recovery-Plan_SLT-1201.pdf\n",
      "output_data/pdfs/Hawaii_2021-Recovery-Plan_SLT-0637.pdf\n",
      "output_data/pdfs/Oakland-County_2021-Recovery-Plan_SLT-2320.pdf\n",
      "output_data/pdfs/Milwaukee_2021-Recovery-Plan_SLT-0565.pdf\n",
      "output_data/pdfs/Marion-County_2021-Recovery-Plan_SLT-2895.pdf\n",
      "output_data/pdfs/Cuyahoga-County_2021-Recovery-Plan_SLT-2224.pdf\n",
      "output_data/pdfs/Snohomish-County_2021-Recovery-Plan_SLT-1216.pdf\n"
     ]
    },
    {
     "name": "stderr",
     "output_type": "stream",
     "text": [
      "PdfReadWarning: Superfluous whitespace found in object header b'89' b'0' [pdf.py:1665]\n",
      "PdfReadWarning: Superfluous whitespace found in object header b'61' b'0' [pdf.py:1665]\n",
      "PdfReadWarning: Superfluous whitespace found in object header b'67' b'0' [pdf.py:1665]\n",
      "PdfReadWarning: Superfluous whitespace found in object header b'81' b'0' [pdf.py:1665]\n"
     ]
    },
    {
     "name": "stdout",
     "output_type": "stream",
     "text": [
      "output_data/pdfs/St.Petersburg_2021-Recovery-Plan_SLT-2055.pdf\n",
      "output_data/pdfs/Lake-County_2021-Recovery-Plan_SLT-1268.pdf\n",
      "output_data/pdfs/Erie-County_2021-Recovery-Plan_SLT-0555.pdf\n",
      "output_data/pdfs/Tulsa_2021-Recovery-Plan_SLT-1498.pdf\n",
      "output_data/pdfs/Newark_2021-Recovery-Plan_SLT-3004.pdf\n",
      "output_data/pdfs/Jefferson-County_2021-Recovery-Plan_SLT-3293.pdf\n"
     ]
    },
    {
     "name": "stderr",
     "output_type": "stream",
     "text": [
      "PdfReadWarning: Superfluous whitespace found in object header b'49' b'0' [pdf.py:1665]\n",
      "PdfReadWarning: Superfluous whitespace found in object header b'77' b'0' [pdf.py:1665]\n",
      "PdfReadWarning: Superfluous whitespace found in object header b'47' b'0' [pdf.py:1665]\n",
      "PdfReadWarning: Superfluous whitespace found in object header b'95' b'0' [pdf.py:1665]\n"
     ]
    },
    {
     "name": "stdout",
     "output_type": "stream",
     "text": [
      "output_data/pdfs/Washington_2021-Recovery-Plan_SLT-0872.pdf\n",
      "output_data/pdfs/Albany-County_2021-Recovery-Plan_SLT-1965.pdf\n",
      "output_data/pdfs/Fairfax-County_2021-Recovery-Plan_SLT-0549.pdf\n",
      "output_data/pdfs/Tucson_2021-Recovery-Plan_SLT-1109.pdf\n",
      "output_data/pdfs/York-County_2021-Recovery-Plan_SLT-4175.pdf\n"
     ]
    },
    {
     "name": "stderr",
     "output_type": "stream",
     "text": [
      "PdfReadWarning: Superfluous whitespace found in object header b'45' b'0' [pdf.py:1665]\n",
      "PdfReadWarning: Superfluous whitespace found in object header b'43' b'0' [pdf.py:1665]\n"
     ]
    },
    {
     "name": "stdout",
     "output_type": "stream",
     "text": [
      "output_data/pdfs/Las-Vegas_2021-Recovery-Plan_SLT-1105.pdf\n",
      "output_data/pdfs/Boulder-County_2021-Recovery-Plan_SLT-3382.pdf\n",
      "output_data/pdfs/Osceola-County_2021-Recovery-Plan_SLT-3250.pdf\n",
      "output_data/pdfs/Seattle_2021-Recovery-Plan_SLT-3134.pdf\n",
      "output_data/pdfs/Montana_2021-Recovery-Plan_SLT-3103.pdf\n",
      "output_data/pdfs/Oklahoma-City_2021-Recovery-Plan_SLT-0594.pdf\n",
      "output_data/pdfs/Brazoria-County_2021-Recovery-Plan_SLT-2376.pdf\n",
      "output_data/pdfs/Orange-County_2021-Recovery-Plan_SLT-0929.pdf\n",
      "output_data/pdfs/Gwinnett-County_2021-Recovery-Plan_SLT-2103.pdf\n",
      "output_data/pdfs/Jefferson-County_2021-Recovery-Plan_SLT-0570.pdf\n",
      "output_data/pdfs/Knox-County_2021-Recovery-Plan_SLT-5118.pdf\n",
      "output_data/pdfs/Broward-County_2021-Recovery-Plan_SLT-0801.pdf\n",
      "output_data/pdfs/Idaho_2021-Recovery-Plan_SLT-0829.pdf\n",
      "output_data/pdfs/Tulare-County_2021-Recovery-Plan_SLT-2057.pdf\n",
      "output_data/pdfs/California_2021-Recovery-Plan_SLT-5165.pdf\n",
      "output_data/pdfs/Lake-County_2021-Recovery-Plan_SLT-3284.pdf\n",
      "output_data/pdfs/Tulsa-County_2021-Recovery-Plan_SLT-0595.pdf\n",
      "output_data/pdfs/St-Joseph-County_2021-Recovery-Plan_SLT-2153.pdf\n",
      "output_data/pdfs/St.Paul_2021-Recovery-Plan_SLT-3368.pdf\n",
      "output_data/pdfs/Atlanta_2021-Recovery-Plan_SLT-0584.pdf\n",
      "output_data/pdfs/Yakima-County_2021-Recovery-Plan_SLT-3675.pdf\n",
      "output_data/pdfs/Corpus-Christi_2021-Recovery-Plan_SLT-0655.pdf\n",
      "output_data/pdfs/Montgomery_2021-Recovery-Plan_SLT-2033.pdf\n",
      "output_data/pdfs/Delaware_2021-Recovery-Plan_SLT-1669.pdf\n",
      "output_data/pdfs/Lincoln_2021-Recovery-Plan_SLT-1414.pdf\n",
      "output_data/pdfs/American-Samoa_2021-Recovery-Plan_SLT-2707.pdf\n",
      "output_data/pdfs/Mississippi_2021%20Recovery%20Plan_SLT-0976.pdf\n",
      "output_data/pdfs/Los-Angeles_2021-Recovery-Plan_SLT-2432.pdf\n",
      "output_data/pdfs/Plano_2021-Recovery-Plan_SLT-4166.pdf\n",
      "output_data/pdfs/Lubbock-County_2021-Recovery-Plan_SLT-0911.pdf\n",
      "output_data/pdfs/Madison-County_2021-Recovery-Plan_SLT-3846.pdf\n",
      "output_data/pdfs/Omaha_2021-Recovery-Plan_SLT-1682.pdf\n"
     ]
    },
    {
     "name": "stderr",
     "output_type": "stream",
     "text": [
      "PdfReadWarning: Superfluous whitespace found in object header b'54' b'0' [pdf.py:1665]\n",
      "PdfReadWarning: Superfluous whitespace found in object header b'104' b'0' [pdf.py:1665]\n",
      "PdfReadWarning: Superfluous whitespace found in object header b'121' b'0' [pdf.py:1665]\n",
      "PdfReadWarning: Superfluous whitespace found in object header b'124' b'0' [pdf.py:1665]\n",
      "PdfReadWarning: Superfluous whitespace found in object header b'127' b'0' [pdf.py:1665]\n",
      "PdfReadWarning: Superfluous whitespace found in object header b'130' b'0' [pdf.py:1665]\n",
      "PdfReadWarning: Superfluous whitespace found in object header b'133' b'0' [pdf.py:1665]\n",
      "PdfReadWarning: Superfluous whitespace found in object header b'136' b'0' [pdf.py:1665]\n",
      "PdfReadWarning: Superfluous whitespace found in object header b'139' b'0' [pdf.py:1665]\n",
      "PdfReadWarning: Superfluous whitespace found in object header b'142' b'0' [pdf.py:1665]\n",
      "PdfReadWarning: Superfluous whitespace found in object header b'145' b'0' [pdf.py:1665]\n",
      "PdfReadWarning: Superfluous whitespace found in object header b'148' b'0' [pdf.py:1665]\n",
      "PdfReadWarning: Superfluous whitespace found in object header b'151' b'0' [pdf.py:1665]\n",
      "PdfReadWarning: Superfluous whitespace found in object header b'52' b'0' [pdf.py:1665]\n",
      "PdfReadWarning: Superfluous whitespace found in object header b'79' b'0' [pdf.py:1665]\n",
      "PdfReadWarning: Superfluous whitespace found in object header b'146' b'0' [pdf.py:1665]\n",
      "PdfReadWarning: Superfluous whitespace found in object header b'149' b'0' [pdf.py:1665]\n",
      "PdfReadWarning: Superfluous whitespace found in object header b'98' b'0' [pdf.py:1665]\n",
      "PdfReadWarning: Superfluous whitespace found in object header b'115' b'0' [pdf.py:1665]\n",
      "PdfReadWarning: Superfluous whitespace found in object header b'118' b'0' [pdf.py:1665]\n",
      "PdfReadWarning: Superfluous whitespace found in object header b'160' b'0' [pdf.py:1665]\n",
      "PdfReadWarning: Superfluous whitespace found in object header b'163' b'0' [pdf.py:1665]\n",
      "PdfReadWarning: Superfluous whitespace found in object header b'166' b'0' [pdf.py:1665]\n"
     ]
    },
    {
     "name": "stdout",
     "output_type": "stream",
     "text": [
      "output_data/pdfs/Kalamazoo-County_2021-Recovery-Plan_SLT-2685.pdf\n",
      "output_data/pdfs/Placer-County_2021-Recovery-Plan_SLT-1259.pdf\n"
     ]
    },
    {
     "name": "stderr",
     "output_type": "stream",
     "text": [
      "PdfReadWarning: Superfluous whitespace found in object header b'161' b'0' [pdf.py:1665]\n",
      "PdfReadWarning: Superfluous whitespace found in object header b'164' b'0' [pdf.py:1665]\n",
      "PdfReadWarning: Superfluous whitespace found in object header b'167' b'0' [pdf.py:1665]\n"
     ]
    },
    {
     "name": "stdout",
     "output_type": "stream",
     "text": [
      "output_data/pdfs/Santa-Barbara-County_2021-Recovery-Plan_SLT-9154.pdf\n",
      "output_data/pdfs/Montgomery-County_2021-Recovery-Plan_SLT-0583.pdf\n",
      "output_data/pdfs/Rockland-County_2021-Recovery-Plan_SLT-6668.pdf\n",
      "output_data/pdfs/Greensboro_2021-Recovery-Plan_SLT-2249.pdf\n",
      "output_data/pdfs/Montgomery-County_2021-Recovery-Plan_SLT-1460.pdf\n",
      "output_data/pdfs/Bakersfield_2021-Recovery-Plan_SLT-1247.pdf\n",
      "output_data/pdfs/Galveston_2021-Recovery-Plan_SLT-4246.pdf\n",
      "output_data/pdfs/Aurora_2021-Recovery-Plan_SLT-1855.pdf\n",
      "output_data/pdfs/Sarasota-County_2021-Recovery-Plan_SLT-0607.pdf\n"
     ]
    },
    {
     "name": "stderr",
     "output_type": "stream",
     "text": [
      "PdfReadWarning: Superfluous whitespace found in object header b'33' b'0' [pdf.py:1665]\n",
      "PdfReadWarning: Superfluous whitespace found in object header b'44' b'0' [pdf.py:1665]\n"
     ]
    },
    {
     "name": "stdout",
     "output_type": "stream",
     "text": [
      "output_data/pdfs/Raleigh_2021-Recovery-Plan_SLT-0606.pdf\n",
      "output_data/pdfs/Reno_2021-Recovery-Plan_SLT-1104.pdf\n",
      "output_data/pdfs/Fresno_2021-Recovery-Plan_SLT-1246.pdf\n",
      "output_data/pdfs/Northampton-County_2021-Recovery-Plan_SLT-4044.pdf\n",
      "output_data/pdfs/Kitsap-County_2021-Recovery-Plan_SLT-2601.pdf\n",
      "output_data/pdfs/Chicago_2021-Recovery-Plan_SLT-1222.pdf\n"
     ]
    },
    {
     "name": "stderr",
     "output_type": "stream",
     "text": [
      "PdfReadWarning: Superfluous whitespace found in object header b'62' b'0' [pdf.py:1665]\n"
     ]
    },
    {
     "name": "stdout",
     "output_type": "stream",
     "text": [
      "output_data/pdfs/Albuquerque_2021-Recovery-Plan-a_SLT-0528.pdf\n"
     ]
    },
    {
     "name": "stderr",
     "output_type": "stream",
     "text": [
      "PdfReadWarning: Superfluous whitespace found in object header b'144' b'0' [pdf.py:1665]\n",
      "PdfReadWarning: Superfluous whitespace found in object header b'147' b'0' [pdf.py:1665]\n",
      "PdfReadWarning: Superfluous whitespace found in object header b'150' b'0' [pdf.py:1665]\n",
      "PdfReadWarning: Superfluous whitespace found in object header b'153' b'0' [pdf.py:1665]\n",
      "PdfReadWarning: Superfluous whitespace found in object header b'156' b'0' [pdf.py:1665]\n",
      "PdfReadWarning: Superfluous whitespace found in object header b'159' b'0' [pdf.py:1665]\n",
      "PdfReadWarning: Superfluous whitespace found in object header b'162' b'0' [pdf.py:1665]\n",
      "PdfReadWarning: Superfluous whitespace found in object header b'165' b'0' [pdf.py:1665]\n",
      "PdfReadWarning: Superfluous whitespace found in object header b'168' b'0' [pdf.py:1665]\n",
      "PdfReadWarning: Superfluous whitespace found in object header b'171' b'0' [pdf.py:1665]\n",
      "PdfReadWarning: Superfluous whitespace found in object header b'174' b'0' [pdf.py:1665]\n",
      "PdfReadWarning: Superfluous whitespace found in object header b'177' b'0' [pdf.py:1665]\n",
      "PdfReadWarning: Superfluous whitespace found in object header b'180' b'0' [pdf.py:1665]\n",
      "PdfReadWarning: Superfluous whitespace found in object header b'183' b'0' [pdf.py:1665]\n",
      "PdfReadWarning: Superfluous whitespace found in object header b'186' b'0' [pdf.py:1665]\n",
      "PdfReadWarning: Superfluous whitespace found in object header b'189' b'0' [pdf.py:1665]\n",
      "PdfReadWarning: Superfluous whitespace found in object header b'192' b'0' [pdf.py:1665]\n",
      "PdfReadWarning: Superfluous whitespace found in object header b'169' b'0' [pdf.py:1665]\n",
      "PdfReadWarning: Superfluous whitespace found in object header b'172' b'0' [pdf.py:1665]\n",
      "PdfReadWarning: Superfluous whitespace found in object header b'175' b'0' [pdf.py:1665]\n",
      "PdfReadWarning: Superfluous whitespace found in object header b'178' b'0' [pdf.py:1665]\n",
      "PdfReadWarning: Superfluous whitespace found in object header b'181' b'0' [pdf.py:1665]\n",
      "PdfReadWarning: Superfluous whitespace found in object header b'184' b'0' [pdf.py:1665]\n",
      "PdfReadWarning: Superfluous whitespace found in object header b'187' b'0' [pdf.py:1665]\n",
      "PdfReadWarning: Superfluous whitespace found in object header b'190' b'0' [pdf.py:1665]\n",
      "PdfReadWarning: Superfluous whitespace found in object header b'193' b'0' [pdf.py:1665]\n"
     ]
    },
    {
     "name": "stdout",
     "output_type": "stream",
     "text": [
      "output_data/pdfs/Anoka-County_2021-Recovery-Plan_SLT-0862.pdf\n",
      "output_data/pdfs/Durham-County_2021-Recovery-Plan_SLF-6911.pdf\n",
      "output_data/pdfs/Chula-Vista_2021-Recovery-Plan_SLT-2552.pdf\n",
      "output_data/pdfs/Fort-Bend-County_2021-Recovery-Plan_SLT-0630.pdf\n",
      "output_data/pdfs/Berks-County_2021-Recovery-Plan_SLT-1620.pdf\n",
      "output_data/pdfs/Hamilton-County_2021-Recovery-Plan_SLT-2726.pdf\n",
      "output_data/pdfs/San-Bernardino-County_2021-Recovery-Plan_SLT-0628.pdf\n",
      "output_data/pdfs/Kentucky_2021-Recovery-Plan_SLT-1716.pdf\n"
     ]
    },
    {
     "name": "stderr",
     "output_type": "stream",
     "text": [
      "PdfReadWarning: Superfluous whitespace found in object header b'56' b'0' [pdf.py:1665]\n"
     ]
    },
    {
     "name": "stdout",
     "output_type": "stream",
     "text": [
      "output_data/pdfs/Lorain-County_2021-Recovery-Plan_SLT-1282.pdf\n",
      "output_data/pdfs/Davis-County_2021-Recovery-Plan_SLT-8529.pdf\n",
      "output_data/pdfs/Iowa_2021-Recovery-Plan_SLT-8287.pdf\n"
     ]
    },
    {
     "name": "stderr",
     "output_type": "stream",
     "text": [
      "PdfReadWarning: Superfluous whitespace found in object header b'14' b'0' [pdf.py:1665]\n",
      "PdfReadWarning: Superfluous whitespace found in object header b'12' b'0' [pdf.py:1665]\n"
     ]
    },
    {
     "name": "stdout",
     "output_type": "stream",
     "text": [
      "output_data/pdfs/Chester-County_2021--Recovery-Plan_SLT-1636.pdf\n",
      "output_data/pdfs/Nueces-County_2021-Recovery-Plan_SLT-1335.pdf\n",
      "output_data/pdfs/King-County_2021-Recovery-Plan_SLT-2236.pdf\n",
      "output_data/pdfs/York-County_2021-Recovery-Plan_SLT-1484.pdf\n",
      "output_data/pdfs/San-Luis-Obispo-County_2021-Recovery-Plan_SLT-3580.pdf\n",
      "output_data/pdfs/Collin-County_2021-Recovery-Plan_SLT-0561.pdf\n",
      "output_data/pdfs/Colorado_2021-Recovery-Plan_SLT-0896.pdf\n",
      "output_data/pdfs/Anne-Arundel-County_2021-Recovery-Plan_SLT-0698.pdf\n",
      "output_data/pdfs/Monterey-County_2021-Recovery-Plan_SLT-0770.pdf\n",
      "output_data/pdfs/Alachua-County_2021-Recovery-Plan_SLT-0997.pdf\n",
      "output_data/pdfs/Contra-Costa-County_2021-Recovery-Plan_SLT-0530.pdf\n",
      "output_data/pdfs/Minnesota_2021-Recovery-Plan_SLT-0790.pdf\n",
      "output_data/pdfs/Johnson-County_2021-Recovery-Plan_SLT-0609.pdf\n",
      "output_data/pdfs/Larimer-County_2021-Recovery-Plan_SLT-1148.pdf\n",
      "output_data/pdfs/Dane-County_2021-Recovery-Plan_SLT-0844.pdf\n",
      "output_data/pdfs/San-Antonio_2021-Recovery-Plan_SLT-0591.pdf\n",
      "output_data/pdfs/Montgomery-County_2021-Recovery-Plan_SLT-1937.pdf\n",
      "output_data/pdfs/Denver_2021-Recovery-Plan_SLT-7687,1004.pdf\n",
      "output_data/pdfs/Santa-Cruz-County_2021-Recovery-Plan_SLT-2412.pdf\n",
      "output_data/pdfs/Florida_2021-Recovery-Plan_SLT-2564.pdf\n",
      "output_data/pdfs/Ingham-County_2021-Recovery-Plan_SLT-3529.pdf\n",
      "output_data/pdfs/North-Dakota_2021-Recovery-Plan_SLT-4159.pdf\n",
      "output_data/pdfs/Charlotte_2021-Recovery-Plan_SLT-0621.pdf\n",
      "output_data/pdfs/Washtenaw-County_2021-Recovery-Plan_SLT-2294.pdf\n",
      "output_data/pdfs/Wisconsin_2021-Recovery-Plan_SLT-0534.pdf\n",
      "output_data/pdfs/St.Tammany_2021-Recovery-Plan_SLT-2783.pdf\n",
      "output_data/pdfs/New-Orleans_2021-Recovery-Plan_SLT-1835.pdf\n",
      "output_data/pdfs/Suffolk-County_2021-Recovery-Plan_SLT-0948.pdf\n",
      "output_data/pdfs/ElPaso-County_2021-Recovery-Plan_SLT-0617.pdf\n",
      "output_data/pdfs/Utah-County_2021-Recovery-Plan_SLT-1193.pdf\n",
      "output_data/pdfs/Cobb-County_2021-Recovery-Plan_SLT-1556.pdf\n",
      "output_data/pdfs/New-Castle-County_2021-Recovery-Plan_SLT-7484.pdf\n",
      "output_data/pdfs/Toledo_2021-Recovery-Plan_SLT-2261.pdf\n",
      "output_data/pdfs/Alabama_2021-Recovery-Plan_SLT-5312.pdf\n",
      "output_data/pdfs/Wyoming_2021-Recovery-Plan_SLT-0931.pdf\n",
      "output_data/pdfs/Madison_2021-Recovery-Plan_SLT-0704.pdf\n",
      "output_data/pdfs/Ottawa-County_2021-Recovery-Plan_SLT-4254.pdf\n",
      "output_data/pdfs/Jefferson-County_2021-Recovery-Plan_SLT-0883.pdf\n",
      "output_data/pdfs/Rockingham-County_2021-Recovery-Plan_SLT-1209.pdf\n",
      "output_data/pdfs/St-Lucie-County_2021-Recovery-Plan_SLT-3948.pdf\n",
      "output_data/pdfs/San-Francisco-County_2021-Recovery-Plan_SLT-5348.pdf\n",
      "output_data/pdfs/Frederick-County_2021-Recovery-Plan_SLT-1198.pdf\n",
      "output_data/pdfs/South-Dakota__2021-Recovery-Plan_SLT-3441.pdf\n",
      "output_data/pdfs/Chandler_2021-Recovery-Plan_SLT-1989.pdf\n",
      "output_data/pdfs/Illinois_2021%20Recovery%20Plan_SLT-3381.pdf\n",
      "output_data/pdfs/New-Mexico_2021-Recovery-Plan_SLT-2118.pdf\n",
      "output_data/pdfs/Fresno-County_2021-Recovery-Plan_SLT-4029.pdf\n",
      "output_data/pdfs/North-Carolina_2021-Recovery-Plan_SLT-0541.pdf\n",
      "output_data/pdfs/Mecklenburg-County_2021-Recovery-Plan_SLT-3169.pdf\n",
      "output_data/pdfs/Bergen-County_2021-Recovery-Plan_SLT-0529.pdf\n",
      "output_data/pdfs/Baltimore_2021-Recovery-Plan_SLT-2962.pdf\n",
      "output_data/pdfs/Tarrant-County_2021-Recovery-Plan_SLT-0532.pdf\n",
      "output_data/pdfs/Kent-County_2021-Recovery-Plan_SLT-0818.pdf\n",
      "output_data/pdfs/Williamson-County_2021-Recovery-Plan_SLT-0833.pdf\n",
      "output_data/pdfs/Sedgwick-County_2021-Recovery-Plan_SLT-0781.pdf\n",
      "output_data/pdfs/Brown-County_2021-Recovery-Plan_SLT-1158.pdf\n",
      "output_data/pdfs/Orange-County_2021-Recovery-Plan_SLT-1328.pdf\n",
      "output_data/pdfs/San-Mateo-County_2021-Recovery-Plan_SLT-0579.pdf\n"
     ]
    }
   ],
   "source": [
    "data_list = []\n",
    "trouble = []\n",
    "\n",
    "for pdf in pdfs:\n",
    "    print(pdf)\n",
    "    # creating a pdf file object \n",
    "    try: \n",
    "        pdfFileObj = open(pdf, \"rb\") \n",
    "\n",
    "        # creating a pdf reader object \n",
    "        pdfReader = PyPDF2.PdfFileReader(pdfFileObj) \n",
    "\n",
    "        # printing number of pages in pdf file \n",
    "        pages = pdfReader.numPages\n",
    "        text=\"\"\n",
    "        for number in range(0, pages):    \n",
    "            # creating a page object \n",
    "            pageObj = pdfReader.getPage(number) \n",
    "\n",
    "            # extracting text from page \n",
    "        #     print(pageObj.extractText()) \n",
    "            text = text + pageObj.extractText()\n",
    "        # closing the pdf file object \n",
    "\n",
    "        data_list.append({\n",
    "            \"filename\": pdf,\n",
    "            \"pages\": pages,\n",
    "            \"text\": text.replace(\"\\n\", \"\")\n",
    "        })\n",
    "\n",
    "        pdfFileObj.close() \n",
    "        \n",
    "    except:\n",
    "        trouble.append(pdf)"
   ]
  },
  {
   "cell_type": "code",
   "execution_count": 55,
   "id": "beautiful-bridges",
   "metadata": {},
   "outputs": [],
   "source": [
    "df = pd.DataFrame(data_list)"
   ]
  },
  {
   "cell_type": "code",
   "execution_count": 56,
   "id": "jewish-flavor",
   "metadata": {},
   "outputs": [
    {
     "data": {
      "text/plain": [
       "344"
      ]
     },
     "execution_count": 56,
     "metadata": {},
     "output_type": "execute_result"
    }
   ],
   "source": [
    "len(data_list)"
   ]
  },
  {
   "cell_type": "code",
   "execution_count": 57,
   "id": "relative-authentication",
   "metadata": {},
   "outputs": [
    {
     "data": {
      "text/plain": [
       "0"
      ]
     },
     "execution_count": 57,
     "metadata": {},
     "output_type": "execute_result"
    }
   ],
   "source": [
    "len(trouble)"
   ]
  },
  {
   "cell_type": "code",
   "execution_count": 60,
   "id": "backed-indication",
   "metadata": {},
   "outputs": [],
   "source": [
    "df[\"text_process\"] = df[\"text\"].str.lower()"
   ]
  },
  {
   "cell_type": "code",
   "execution_count": 77,
   "id": "peaceful-congo",
   "metadata": {},
   "outputs": [
    {
     "data": {
      "text/plain": [
       "149"
      ]
     },
     "execution_count": 77,
     "metadata": {},
     "output_type": "execute_result"
    }
   ],
   "source": [
    "len(df[df[\"text_process\"].str.contains(\"homeless\")])"
   ]
  },
  {
   "cell_type": "code",
   "execution_count": 78,
   "id": "global-collector",
   "metadata": {},
   "outputs": [
    {
     "data": {
      "text/plain": [
       "38"
      ]
     },
     "execution_count": 78,
     "metadata": {},
     "output_type": "execute_result"
    }
   ],
   "source": [
    "len((df[df[\"text_process\"].str.contains(\"crime\")]))"
   ]
  },
  {
   "cell_type": "code",
   "execution_count": 79,
   "id": "valid-identification",
   "metadata": {},
   "outputs": [
    {
     "data": {
      "text/plain": [
       "70"
      ]
     },
     "execution_count": 79,
     "metadata": {},
     "output_type": "execute_result"
    }
   ],
   "source": [
    "len(df[df[\"text_process\"].str.contains(\"police\")])"
   ]
  },
  {
   "cell_type": "code",
   "execution_count": 80,
   "id": "duplicate-regression",
   "metadata": {},
   "outputs": [
    {
     "data": {
      "text/plain": [
       "167"
      ]
     },
     "execution_count": 80,
     "metadata": {},
     "output_type": "execute_result"
    }
   ],
   "source": [
    "len(df[df[\"text_process\"].str.contains(\"prison\")])"
   ]
  },
  {
   "cell_type": "code",
   "execution_count": 81,
   "id": "imported-function",
   "metadata": {},
   "outputs": [
    {
     "data": {
      "text/plain": [
       "183"
      ]
     },
     "execution_count": 81,
     "metadata": {},
     "output_type": "execute_result"
    }
   ],
   "source": [
    "len(df[df[\"text_process\"].str.contains(\"jail\")])"
   ]
  },
  {
   "cell_type": "code",
   "execution_count": 82,
   "id": "written-congo",
   "metadata": {},
   "outputs": [
    {
     "data": {
      "text/plain": [
       "30"
      ]
     },
     "execution_count": 82,
     "metadata": {},
     "output_type": "execute_result"
    }
   ],
   "source": [
    "len(df[df[\"text_process\"].str.contains(\"sheriff\")])"
   ]
  },
  {
   "cell_type": "code",
   "execution_count": 83,
   "id": "local-italy",
   "metadata": {},
   "outputs": [
    {
     "data": {
      "text/plain": [
       "11"
      ]
     },
     "execution_count": 83,
     "metadata": {},
     "output_type": "execute_result"
    }
   ],
   "source": [
    "len(df[df[\"text_process\"].str.contains(\"homicide\")])"
   ]
  },
  {
   "cell_type": "code",
   "execution_count": 84,
   "id": "thirty-classics",
   "metadata": {},
   "outputs": [
    {
     "data": {
      "text/plain": [
       "1"
      ]
     },
     "execution_count": 84,
     "metadata": {},
     "output_type": "execute_result"
    }
   ],
   "source": [
    "len(df[df[\"text_process\"].str.contains(\"murder\")])"
   ]
  },
  {
   "cell_type": "code",
   "execution_count": 85,
   "id": "affecting-monitor",
   "metadata": {},
   "outputs": [
    {
     "data": {
      "text/plain": [
       "15"
      ]
     },
     "execution_count": 85,
     "metadata": {},
     "output_type": "execute_result"
    }
   ],
   "source": [
    "len(df[df[\"text_process\"].str.contains(\"shooting\")])"
   ]
  },
  {
   "cell_type": "code",
   "execution_count": 86,
   "id": "african-stanford",
   "metadata": {},
   "outputs": [
    {
     "data": {
      "text/plain": [
       "68"
      ]
     },
     "execution_count": 86,
     "metadata": {},
     "output_type": "execute_result"
    }
   ],
   "source": [
    "len(df[df[\"text_process\"].str.contains(\"gun\")])"
   ]
  },
  {
   "cell_type": "code",
   "execution_count": 89,
   "id": "german-promotion",
   "metadata": {},
   "outputs": [
    {
     "data": {
      "text/plain": [
       "1"
      ]
     },
     "execution_count": 89,
     "metadata": {},
     "output_type": "execute_result"
    }
   ],
   "source": []
  },
  {
   "cell_type": "code",
   "execution_count": null,
   "id": "prescription-calcium",
   "metadata": {},
   "outputs": [],
   "source": []
  }
 ],
 "metadata": {
  "kernelspec": {
   "display_name": "Python 3",
   "language": "python",
   "name": "python3"
  },
  "language_info": {
   "codemirror_mode": {
    "name": "ipython",
    "version": 3
   },
   "file_extension": ".py",
   "mimetype": "text/x-python",
   "name": "python",
   "nbconvert_exporter": "python",
   "pygments_lexer": "ipython3",
   "version": "3.9.9"
  }
 },
 "nbformat": 4,
 "nbformat_minor": 5
}
