{
 "cells": [
  {
   "cell_type": "code",
   "execution_count": 1,
   "id": "binary-guess",
   "metadata": {},
   "outputs": [],
   "source": [
    "import pandas as pd"
   ]
  },
  {
   "cell_type": "code",
   "execution_count": 6,
   "id": "fuzzy-dollar",
   "metadata": {},
   "outputs": [],
   "source": [
    "# Read in CSVs\n",
    "df_jan_2022 = pd.read_excel('source_data/SLFRF-January-2022-Quarterly-Data-through-December-31-2021.xlsx',\\\n",
    "                            'Project Updated', skiprows=0, index_col=0)\n",
    "df_april_2022 = pd.read_excel(\"source_data/April-2022-Quarterly-and-Annual-Reporting-Data-through-March-31-2022.xlsx\",\\\n",
    "                             \"Projects\")\n",
    "df_july_2022 = pd.read_excel(\"source_data/July-2022-Quarterly-Reporting-Data-through-June-30-2022.xlsx\",\\\n",
    "                             \"Projects\")\n",
    "df_oct_2022 = pd.read_excel(\"source_data/October-2022-Quarterly-Reporting-Data-through-September-30-2022.xlsx\",\\\n",
    "                             \"Projects\")\n",
    "df_jan_2023 = pd.read_excel(\"source_data/January-2023-Quarterly-Reporting-Data-through-December-31-2022.xlsx\",\\\n",
    "                             \"Projects\")"
   ]
  },
  {
   "cell_type": "code",
   "execution_count": 7,
   "id": "developmental-amber",
   "metadata": {},
   "outputs": [],
   "source": [
    "df_jan_2022[\"dataset\"] = \"jan_2022\"\n",
    "df_april_2022[\"dataset\"] = \"april_2022\"\n",
    "df_july_2022[\"dataset\"] = \"july_2022\"\n",
    "df_oct_2022[\"dataset\"] = \"oct_2022\"\n",
    "df_jan_2023[\"dataset\"] = \"jan_2023\""
   ]
  },
  {
   "cell_type": "code",
   "execution_count": 8,
   "id": "color-european",
   "metadata": {},
   "outputs": [],
   "source": [
    "dfs = [df_jan_2022, df_april_2022, df_july_2022, df_oct_2022, df_jan_2023]"
   ]
  },
  {
   "cell_type": "code",
   "execution_count": 9,
   "id": "comprehensive-perspective",
   "metadata": {},
   "outputs": [],
   "source": [
    "df = pd.concat(dfs)"
   ]
  },
  {
   "cell_type": "code",
   "execution_count": 13,
   "id": "touched-russia",
   "metadata": {},
   "outputs": [],
   "source": [
    "df.to_csv(\"output_data/arpa_projects_jan_22_to_jan_23.csv\", index=False)"
   ]
  },
  {
   "cell_type": "code",
   "execution_count": null,
   "id": "curious-maximum",
   "metadata": {},
   "outputs": [],
   "source": []
  }
 ],
 "metadata": {
  "kernelspec": {
   "display_name": "Python 3",
   "language": "python",
   "name": "python3"
  },
  "language_info": {
   "codemirror_mode": {
    "name": "ipython",
    "version": 3
   },
   "file_extension": ".py",
   "mimetype": "text/x-python",
   "name": "python",
   "nbconvert_exporter": "python",
   "pygments_lexer": "ipython3",
   "version": "3.9.16"
  }
 },
 "nbformat": 4,
 "nbformat_minor": 5
}
