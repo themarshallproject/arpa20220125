{
 "cells": [
  {
   "cell_type": "code",
   "execution_count": 26,
   "id": "a8987ef2",
   "metadata": {},
   "outputs": [],
   "source": [
    "import requests\n",
    "from bs4 import BeautifulSoup\n",
    "import pandas as pd\n",
    "from xml.sax import ContentHandler, parse\n",
    "\n",
    "from selenium import webdriver\n",
    "from selenium.webdriver.common.keys import Keys\n",
    "from selenium.webdriver.common.by import By\n",
    "from selenium.webdriver.support.ui import Select\n",
    "from selenium.webdriver.support.ui import WebDriverWait\n",
    "from selenium.common.exceptions import TimeoutException\n",
    "from selenium.webdriver.support import expected_conditions as EC"
   ]
  },
  {
   "cell_type": "code",
   "execution_count": 2,
   "id": "b7992a10",
   "metadata": {},
   "outputs": [],
   "source": [
    "url = \"https://home.treasury.gov/policy-issues/coronavirus/assistance-for-state-local-and-tribal-governments/state-and-local-fiscal-recovery-funds/recovery-plan-performance-reports-2021\"\n",
    "response = requests.get(url)"
   ]
  },
  {
   "cell_type": "code",
   "execution_count": 3,
   "id": "d17740ee",
   "metadata": {},
   "outputs": [],
   "source": [
    "soup = BeautifulSoup(response.text, 'html.parser')"
   ]
  },
  {
   "cell_type": "code",
   "execution_count": 4,
   "id": "6c66effa",
   "metadata": {},
   "outputs": [],
   "source": [
    "table = soup.find_all('table')[0]"
   ]
  },
  {
   "cell_type": "code",
   "execution_count": 5,
   "id": "cfc227ba",
   "metadata": {},
   "outputs": [],
   "source": [
    "ths = table.find_all('th')\n",
    "headers=['Index']\n",
    "for th in ths[1:]:\n",
    "    headers.append(th.text.strip())"
   ]
  },
  {
   "cell_type": "code",
   "execution_count": 6,
   "id": "21d76750",
   "metadata": {},
   "outputs": [],
   "source": [
    "tbody = table.find('tbody')\n",
    "trs = tbody.find_all('tr')"
   ]
  },
  {
   "cell_type": "code",
   "execution_count": 7,
   "id": "93641f78",
   "metadata": {},
   "outputs": [],
   "source": [
    "table_list = []\n",
    "for tr in trs:\n",
    "    tds = tr.find_all('td')\n",
    "    td_list = []\n",
    "    for (i, td) in enumerate (tds):\n",
    "        if (i == 5):\n",
    "            td_list.append(td.find('a')['href'])\n",
    "        elif (i== 7):\n",
    "            try:\n",
    "                td_list.append(td.find('a')['href'])\n",
    "            except:\n",
    "                pass\n",
    "        else:\n",
    "            td_list.append(td.text)\n",
    "    table_list.append(td_list)\n",
    "\n",
    "df = pd.DataFrame(table_list, columns = headers)"
   ]
  },
  {
   "cell_type": "code",
   "execution_count": 28,
   "id": "7127373a",
   "metadata": {},
   "outputs": [],
   "source": [
    "def down_interim_report(row):\n",
    "    url = row[\"Interim Report\"]\n",
    "    print(url)\n",
    "    wait_for_element = 10\n",
    "    \n",
    "    driver.get(url)\n",
    "    try:\n",
    "        WebDriverWait(driver, wait_for_element).until(\n",
    "            EC.element_to_be_clickable((By.CLASS_NAME, \"downloadbutton\"))\n",
    "        )\n",
    "        \n",
    "#         file_name = driver.find_element_by_class_name(\"title\")[0].text\n",
    "#         print(filename)\n",
    "        \n",
    "        download_button = driver.find_element_by_class_name(\"downloadbutton\")\n",
    "        download_button.click()\n",
    "        \n",
    "    except TimeoutException as e:\n",
    "        print(\"Wait Time Out\")\n",
    "        print(e)\n",
    "        \n",
    "#     return filename\n",
    "        "
   ]
  },
  {
   "cell_type": "code",
   "execution_count": 18,
   "id": "ea8c86c7",
   "metadata": {},
   "outputs": [],
   "source": [
    "driver_path = 'source_data/chromedriver'\n",
    "driver = webdriver.Chrome(executable_path=driver_path)"
   ]
  },
  {
   "cell_type": "code",
   "execution_count": null,
   "id": "6c33a95d",
   "metadata": {},
   "outputs": [
    {
     "name": "stdout",
     "output_type": "stream",
     "text": [
      "https://apps-treas.my.salesforce.com/sfc/p/t0000000TZbC/a/t0000001ell1/HV3pS5E3I2Dnnax8fxWdiEW31mFr5BeNMy2nTGsygfo\n",
      "https://apps-treas.my.salesforce.com/sfc/p/t0000000TZbC/a/t0000001ell2/JBX0RjN1jVl1sH3HTGrZ1OF3Jb.vMoMzpOMCND_2Chk\n",
      "https://apps-treas.my.salesforce.com/sfc/p/t0000000TZbC/a/t0000001ell3/_jqheA6MTS0Z4Rywht6QdJp_AUkC8V0T2OcvobQJdyw\n",
      "https://apps-treas.my.salesforce.com/sfc/p/t0000000TZbC/a/t0000001ell4/y5vYThZ8Zwa2SGEfReiJdZ6ZlBupAv_FcWDh_LAKF9M\n",
      "https://apps-treas.my.salesforce.com/sfc/p/t0000000TZbC/a/t0000001ellA/sRd2O.TFImpOQ5e3_g3cjGutwSUi2eAp_n30OwLERy0\n"
     ]
    }
   ],
   "source": [
    "df.head().apply(down_interim_report, axis = 1)"
   ]
  },
  {
   "cell_type": "code",
   "execution_count": null,
   "id": "af2f521f",
   "metadata": {},
   "outputs": [],
   "source": []
  }
 ],
 "metadata": {
  "kernelspec": {
   "display_name": "Python 3",
   "language": "python",
   "name": "python3"
  },
  "language_info": {
   "codemirror_mode": {
    "name": "ipython",
    "version": 3
   },
   "file_extension": ".py",
   "mimetype": "text/x-python",
   "name": "python",
   "nbconvert_exporter": "python",
   "pygments_lexer": "ipython3",
   "version": "3.8.3"
  }
 },
 "nbformat": 4,
 "nbformat_minor": 5
}
