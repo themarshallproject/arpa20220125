{
 "cells": [
  {
   "cell_type": "code",
   "execution_count": 1,
   "id": "divided-cylinder",
   "metadata": {},
   "outputs": [],
   "source": [
    "import json"
   ]
  },
  {
   "cell_type": "code",
   "execution_count": 3,
   "id": "technological-advance",
   "metadata": {},
   "outputs": [],
   "source": [
    "f = open(\"data/querydataAuthority.json\")"
   ]
  },
  {
   "cell_type": "code",
   "execution_count": 4,
   "id": "prime-tablet",
   "metadata": {},
   "outputs": [],
   "source": [
    "data = json.load(f)"
   ]
  },
  {
   "cell_type": "code",
   "execution_count": 30,
   "id": "virtual-telling",
   "metadata": {},
   "outputs": [
    {
     "data": {
      "text/plain": [
       "70"
      ]
     },
     "execution_count": 30,
     "metadata": {},
     "output_type": "execute_result"
    }
   ],
   "source": [
    "len(data[\"results\"][0][\"result\"][\"data\"][\"dsr\"][\"DS\"][0][\"ValueDicts\"][\"D3\"])"
   ]
  },
  {
   "cell_type": "code",
   "execution_count": 34,
   "id": "intellectual-brush",
   "metadata": {},
   "outputs": [
    {
     "data": {
      "text/plain": [
       "19"
      ]
     },
     "execution_count": 34,
     "metadata": {},
     "output_type": "execute_result"
    }
   ],
   "source": [
    "len(data[\"results\"][0][\"result\"][\"data\"][\"dsr\"][\"DS\"][0][\"ValueDicts\"][\"D5\"])"
   ]
  },
  {
   "cell_type": "code",
   "execution_count": 42,
   "id": "regular-parent",
   "metadata": {},
   "outputs": [
    {
     "data": {
      "text/plain": [
       "1"
      ]
     },
     "execution_count": 42,
     "metadata": {},
     "output_type": "execute_result"
    }
   ],
   "source": [
    "len(data[\"results\"][0][\"result\"][\"data\"][\"dsr\"][\"DS\"][0][\"PH\"][0])"
   ]
  },
  {
   "cell_type": "code",
   "execution_count": 49,
   "id": "cooperative-friendly",
   "metadata": {},
   "outputs": [
    {
     "data": {
      "text/plain": [
       "70"
      ]
     },
     "execution_count": 49,
     "metadata": {},
     "output_type": "execute_result"
    }
   ],
   "source": [
    "len(data[\"results\"][0][\"result\"][\"data\"][\"dsr\"][\"DS\"][0][\"PH\"][0][\"DM0\"])"
   ]
  },
  {
   "cell_type": "code",
   "execution_count": 50,
   "id": "adaptive-fancy",
   "metadata": {},
   "outputs": [
    {
     "data": {
      "text/plain": [
       "[{'S': [{'N': 'G0', 'T': 7},\n",
       "   {'N': 'G1', 'T': 1, 'DN': 'D0'},\n",
       "   {'N': 'G2', 'T': 1, 'DN': 'D1'},\n",
       "   {'N': 'G3', 'T': 1, 'DN': 'D2'},\n",
       "   {'N': 'G4', 'T': 1, 'DN': 'D3'},\n",
       "   {'N': 'G5', 'T': 1, 'DN': 'D4'},\n",
       "   {'N': 'M0', 'T': 1, 'DN': 'D5'}],\n",
       "  'C': [1639440000000, 0, 0, 0, 0, 0, 0]},\n",
       " {'C': [1], 'R': 111},\n",
       " {'C': [2], 'R': 111},\n",
       " {'C': [3], 'R': 111},\n",
       " {'C': [1638316800000, 1, 1, 4, 1, 1], 'R': 2},\n",
       " {'C': [1637625600000, 2, 0, 5, 0, 2], 'R': 2},\n",
       " {'C': [1637280000000, 3, 6, 3], 'R': 42},\n",
       " {'C': [7], 'R': 111},\n",
       " {'C': [8], 'R': 111},\n",
       " {'C': [9], 'R': 111},\n",
       " {'C': [10], 'R': 111},\n",
       " {'C': [1636502400000, 4, 11, 4], 'R': 42},\n",
       " {'C': [12], 'R': 111},\n",
       " {'C': [13], 'R': 111},\n",
       " {'C': [14], 'R': 111},\n",
       " {'C': [15], 'R': 111},\n",
       " {'C': [16], 'R': 111},\n",
       " {'C': [17], 'R': 111},\n",
       " {'C': [18], 'R': 111},\n",
       " {'C': [19], 'R': 111},\n",
       " {'C': [1635292800000, 5, 1, 20, 1, 5], 'R': 2},\n",
       " {'C': [21], 'R': 111},\n",
       " {'C': [6, 0, 22, 2, 6], 'R': 3},\n",
       " {'C': [23], 'R': 111},\n",
       " {'C': [1628726400000, 7, 24, 0, 7], 'R': 10},\n",
       " {'C': [25], 'R': 111},\n",
       " {'C': [26], 'R': 111},\n",
       " {'C': [27], 'R': 111},\n",
       " {'C': [28], 'R': 111},\n",
       " {'C': [29], 'R': 111},\n",
       " {'C': [30], 'R': 111},\n",
       " {'C': [31], 'R': 111},\n",
       " {'C': [32], 'R': 111},\n",
       " {'C': [33], 'R': 111},\n",
       " {'C': [34], 'R': 111},\n",
       " {'C': [35], 'R': 111},\n",
       " {'C': [36], 'R': 111},\n",
       " {'C': [37], 'R': 111},\n",
       " {'C': [1628208000000, 8, 38, 8], 'R': 42},\n",
       " {'C': [1628035200000, 9, 39, 9], 'R': 42},\n",
       " {'C': [1625702400000, 10, 40, 10], 'R': 42},\n",
       " {'C': [11, 41, 3, 11], 'R': 11},\n",
       " {'C': [1624924800000, 12, 42, 0, 12], 'R': 10},\n",
       " {'C': [13, 43, 13], 'R': 43},\n",
       " {'C': [1624492800000, 12, 44, 14], 'R': 42},\n",
       " {'C': [45], 'R': 111},\n",
       " {'C': [46], 'R': 111},\n",
       " {'C': [47], 'R': 111},\n",
       " {'C': [48], 'R': 111},\n",
       " {'C': [49], 'R': 111},\n",
       " {'C': [1623628800000, 14, 50, 15], 'R': 42},\n",
       " {'C': [51], 'R': 111},\n",
       " {'C': [52], 'R': 111},\n",
       " {'C': [53], 'R': 111},\n",
       " {'C': [54], 'R': 111},\n",
       " {'C': [55], 'R': 111},\n",
       " {'C': [56], 'R': 111},\n",
       " {'C': [57], 'R': 111},\n",
       " {'C': [58], 'R': 111},\n",
       " {'C': [59], 'R': 111},\n",
       " {'C': [60], 'R': 111},\n",
       " {'C': [61], 'R': 111},\n",
       " {'C': [1622764800000, 15, 62, 4, 16], 'R': 10},\n",
       " {'C': [1621296000000, 16, 63, 0, 17], 'R': 10},\n",
       " {'C': [64], 'R': 111},\n",
       " {'C': [65], 'R': 111},\n",
       " {'C': [66], 'R': 111},\n",
       " {'C': [67], 'R': 111},\n",
       " {'C': [68], 'R': 111},\n",
       " {'C': [1609632000000, 17, 1, 69, 3, 18], 'R': 2}]"
      ]
     },
     "execution_count": 50,
     "metadata": {},
     "output_type": "execute_result"
    }
   ],
   "source": [
    "data[\"results\"][0][\"result\"][\"data\"][\"dsr\"][\"DS\"][0][\"PH\"][0][\"DM0\"]"
   ]
  },
  {
   "cell_type": "code",
   "execution_count": null,
   "id": "legendary-english",
   "metadata": {},
   "outputs": [],
   "source": []
  }
 ],
 "metadata": {
  "kernelspec": {
   "display_name": "Python 3",
   "language": "python",
   "name": "python3"
  },
  "language_info": {
   "codemirror_mode": {
    "name": "ipython",
    "version": 3
   },
   "file_extension": ".py",
   "mimetype": "text/x-python",
   "name": "python",
   "nbconvert_exporter": "python",
   "pygments_lexer": "ipython3",
   "version": "3.9.9"
  }
 },
 "nbformat": 4,
 "nbformat_minor": 5
}
