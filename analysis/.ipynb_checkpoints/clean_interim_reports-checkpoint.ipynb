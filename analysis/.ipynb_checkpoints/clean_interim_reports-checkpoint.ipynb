{
 "cells": [
  {
   "cell_type": "code",
   "execution_count": 17,
   "metadata": {},
   "outputs": [],
   "source": [
    "import pandas as pd\n",
    "import glob\n",
    "from xml.sax import ContentHandler, parse"
   ]
  },
  {
   "cell_type": "code",
   "execution_count": 18,
   "metadata": {},
   "outputs": [],
   "source": [
    "filenames = glob.glob(\"output_data/AL/*.xls\")"
   ]
  },
  {
   "cell_type": "code",
   "execution_count": 19,
   "metadata": {},
   "outputs": [],
   "source": [
    "# Reference https://goo.gl/KaOBG3\n",
    "class ExcelHandler(ContentHandler):\n",
    "    def __init__(self):\n",
    "        self.chars = [  ]\n",
    "        self.cells = [  ]\n",
    "        self.rows = [  ]\n",
    "        self.tables = [  ]\n",
    "    def characters(self, content):\n",
    "        self.chars.append(content)\n",
    "    def startElement(self, name, atts):\n",
    "        if name==\"Cell\":\n",
    "            self.chars = [  ]\n",
    "        elif name==\"Row\":\n",
    "            self.cells=[  ]\n",
    "        elif name==\"Table\":\n",
    "            self.rows = [  ]\n",
    "    def endElement(self, name):\n",
    "        if name==\"Cell\":\n",
    "            self.cells.append(''.join(self.chars))\n",
    "        elif name==\"Row\":\n",
    "            self.rows.append(self.cells)\n",
    "        elif name==\"Table\":\n",
    "            self.tables.append(self.rows)"
   ]
  },
  {
   "cell_type": "code",
   "execution_count": 21,
   "metadata": {},
   "outputs": [
    {
     "name": "stderr",
     "output_type": "stream",
     "text": [
      "<ipython-input-21-d98910ecfa35>:15: FutureWarning: As the xlwt package is no longer maintained, the xlwt engine will be removed in a future version of pandas. This is the only engine in pandas that supports writing in the xls format. Install openpyxl and write to an xlsx file instead. You can set the option io.excel.xls.writer to 'xlwt' to silence this warning. While this option is deprecated and will also raise a warning, it can be globally set and the warning suppressed.\n",
      "  df.to_excel(f'output_data/CLEAN/{name}.xls', index = False)\n"
     ]
    }
   ],
   "source": [
    "for file in filenames:\n",
    "    excelHandler = ExcelHandler()\n",
    "    parse(file, excelHandler)\n",
    "for file in filenames:\n",
    "    df = pd.DataFrame(excelHandler.tables[0][7:], columns=excelHandler.tables[0][6])\n",
    "    df = df[df[\"Category\"].notna()]\n",
    "    df = df[df[\"Category\"].str.contains(\"Category\") == False]\n",
    "    df = df[df[\"Cumulative Obligations\"].str.contains(\"Total Cumulative Obligations\") == False]\n",
    "    df.drop(df.tail(1).index,inplace=True) \n",
    "    df.drop([86], inplace=True)\n",
    "    name = file.split(\"AL/\")[1]\n",
    "    name = name.split('.xls')[0]\n",
    "    name = name.split(',')[0]\n",
    "    df['Territory']= name\n",
    "    df.to_excel(f'output_data/CLEAN/{name}.xls', index = False)"
   ]
  },
  {
   "cell_type": "code",
   "execution_count": null,
   "metadata": {},
   "outputs": [],
   "source": []
  }
 ],
 "metadata": {
  "kernelspec": {
   "display_name": "Python 3",
   "language": "python",
   "name": "python3"
  },
  "language_info": {
   "codemirror_mode": {
    "name": "ipython",
    "version": 3
   },
   "file_extension": ".py",
   "mimetype": "text/x-python",
   "name": "python",
   "nbconvert_exporter": "python",
   "pygments_lexer": "ipython3",
   "version": "3.8.3"
  }
 },
 "nbformat": 4,
 "nbformat_minor": 5
}
