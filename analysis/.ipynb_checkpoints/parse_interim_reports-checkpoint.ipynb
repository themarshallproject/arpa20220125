{
 "cells": [
  {
   "cell_type": "code",
   "execution_count": 14,
   "id": "comic-conducting",
   "metadata": {},
   "outputs": [],
   "source": [
    "import pandas as pd\n",
    "import glob\n",
    "from xml.sax import ContentHandler, parse"
   ]
  },
  {
   "cell_type": "code",
   "execution_count": 6,
   "id": "banned-favorite",
   "metadata": {},
   "outputs": [],
   "source": [
    "filenames = glob.glob(\"output_data/AL/*.xls\")"
   ]
  },
  {
   "cell_type": "code",
   "execution_count": 8,
   "id": "configured-charlotte",
   "metadata": {},
   "outputs": [],
   "source": [
    "filename = filenames[0]"
   ]
  },
  {
   "cell_type": "code",
   "execution_count": 9,
   "id": "awful-marriage",
   "metadata": {},
   "outputs": [
    {
     "data": {
      "text/plain": [
       "'output_data/AL/Lee County, Alabama Interim Report.xls'"
      ]
     },
     "execution_count": 9,
     "metadata": {},
     "output_type": "execute_result"
    }
   ],
   "source": [
    "filename"
   ]
  },
  {
   "cell_type": "code",
   "execution_count": 15,
   "id": "median-lesbian",
   "metadata": {},
   "outputs": [],
   "source": [
    "# Reference https://goo.gl/KaOBG3\n",
    "class ExcelHandler(ContentHandler):\n",
    "    def __init__(self):\n",
    "        self.chars = [  ]\n",
    "        self.cells = [  ]\n",
    "        self.rows = [  ]\n",
    "        self.tables = [  ]\n",
    "    def characters(self, content):\n",
    "        self.chars.append(content)\n",
    "    def startElement(self, name, atts):\n",
    "        if name==\"Cell\":\n",
    "            self.chars = [  ]\n",
    "        elif name==\"Row\":\n",
    "            self.cells=[  ]\n",
    "        elif name==\"Table\":\n",
    "            self.rows = [  ]\n",
    "    def endElement(self, name):\n",
    "        if name==\"Cell\":\n",
    "            self.cells.append(''.join(self.chars))\n",
    "        elif name==\"Row\":\n",
    "            self.rows.append(self.cells)\n",
    "        elif name==\"Table\":\n",
    "            self.tables.append(self.rows)\n",
    "\n",
    "excelHandler = ExcelHandler()"
   ]
  },
  {
   "cell_type": "code",
   "execution_count": 16,
   "id": "white-insight",
   "metadata": {},
   "outputs": [],
   "source": [
    "parse(filename, excelHandler)\n",
    "\n",
    "df = pd.DataFrame(excelHandler.tables[0][7:], columns=excelHandler.tables[0][6])"
   ]
  },
  {
   "cell_type": "code",
   "execution_count": 17,
   "id": "manual-commission",
   "metadata": {},
   "outputs": [
    {
     "data": {
      "text/html": [
       "<div>\n",
       "<style scoped>\n",
       "    .dataframe tbody tr th:only-of-type {\n",
       "        vertical-align: middle;\n",
       "    }\n",
       "\n",
       "    .dataframe tbody tr th {\n",
       "        vertical-align: top;\n",
       "    }\n",
       "\n",
       "    .dataframe thead th {\n",
       "        text-align: right;\n",
       "    }\n",
       "</style>\n",
       "<table border=\"1\" class=\"dataframe\">\n",
       "  <thead>\n",
       "    <tr style=\"text-align: right;\">\n",
       "      <th></th>\n",
       "      <th>Category</th>\n",
       "      <th>Cumulative Obligations</th>\n",
       "      <th>Cumulative Expenditures</th>\n",
       "    </tr>\n",
       "  </thead>\n",
       "  <tbody>\n",
       "    <tr>\n",
       "      <th>0</th>\n",
       "      <td>1.1 COVID-19 Vaccination</td>\n",
       "      <td></td>\n",
       "      <td></td>\n",
       "    </tr>\n",
       "    <tr>\n",
       "      <th>1</th>\n",
       "      <td>1.2 COVID-19 Testing</td>\n",
       "      <td></td>\n",
       "      <td></td>\n",
       "    </tr>\n",
       "    <tr>\n",
       "      <th>2</th>\n",
       "      <td>1.3 COVID-19 Contact Tracing</td>\n",
       "      <td></td>\n",
       "      <td></td>\n",
       "    </tr>\n",
       "    <tr>\n",
       "      <th>3</th>\n",
       "      <td>1.4 Prevention in Congregate Settings (Nursing...</td>\n",
       "      <td></td>\n",
       "      <td></td>\n",
       "    </tr>\n",
       "    <tr>\n",
       "      <th>4</th>\n",
       "      <td>1.5 Personal Protective Equipment</td>\n",
       "      <td></td>\n",
       "      <td></td>\n",
       "    </tr>\n",
       "    <tr>\n",
       "      <th>...</th>\n",
       "      <td>...</td>\n",
       "      <td>...</td>\n",
       "      <td>...</td>\n",
       "    </tr>\n",
       "    <tr>\n",
       "      <th>91</th>\n",
       "      <td>7.5 Transfers to Non-UGLGs</td>\n",
       "      <td></td>\n",
       "      <td></td>\n",
       "    </tr>\n",
       "    <tr>\n",
       "      <th>92</th>\n",
       "      <td>None</td>\n",
       "      <td>None</td>\n",
       "      <td>None</td>\n",
       "    </tr>\n",
       "    <tr>\n",
       "      <th>93</th>\n",
       "      <td>Cumulative Amounts to Date, for NEU and Non-UG...</td>\n",
       "      <td>None</td>\n",
       "      <td>None</td>\n",
       "    </tr>\n",
       "    <tr>\n",
       "      <th>94</th>\n",
       "      <td></td>\n",
       "      <td>Total Cumulative Obligations</td>\n",
       "      <td>Total Cumulative Expenditures</td>\n",
       "    </tr>\n",
       "    <tr>\n",
       "      <th>95</th>\n",
       "      <td></td>\n",
       "      <td>0.00</td>\n",
       "      <td>0.00</td>\n",
       "    </tr>\n",
       "  </tbody>\n",
       "</table>\n",
       "<p>96 rows × 3 columns</p>\n",
       "</div>"
      ],
      "text/plain": [
       "                                             Category  \\\n",
       "0                            1.1 COVID-19 Vaccination   \n",
       "1                                1.2 COVID-19 Testing   \n",
       "2                        1.3 COVID-19 Contact Tracing   \n",
       "3   1.4 Prevention in Congregate Settings (Nursing...   \n",
       "4                   1.5 Personal Protective Equipment   \n",
       "..                                                ...   \n",
       "91                         7.5 Transfers to Non-UGLGs   \n",
       "92                                               None   \n",
       "93  Cumulative Amounts to Date, for NEU and Non-UG...   \n",
       "94                                                      \n",
       "95                                                      \n",
       "\n",
       "          Cumulative Obligations        Cumulative Expenditures  \n",
       "0                                                                \n",
       "1                                                                \n",
       "2                                                                \n",
       "3                                                                \n",
       "4                                                                \n",
       "..                           ...                            ...  \n",
       "91                                                               \n",
       "92                          None                           None  \n",
       "93                          None                           None  \n",
       "94  Total Cumulative Obligations  Total Cumulative Expenditures  \n",
       "95                          0.00                           0.00  \n",
       "\n",
       "[96 rows x 3 columns]"
      ]
     },
     "execution_count": 17,
     "metadata": {},
     "output_type": "execute_result"
    }
   ],
   "source": []
  },
  {
   "cell_type": "code",
   "execution_count": null,
   "id": "cosmetic-discretion",
   "metadata": {},
   "outputs": [],
   "source": []
  }
 ],
 "metadata": {
  "kernelspec": {
   "display_name": "Python 3",
   "language": "python",
   "name": "python3"
  },
  "language_info": {
   "codemirror_mode": {
    "name": "ipython",
    "version": 3
   },
   "file_extension": ".py",
   "mimetype": "text/x-python",
   "name": "python",
   "nbconvert_exporter": "python",
   "pygments_lexer": "ipython3",
   "version": "3.9.9"
  }
 },
 "nbformat": 4,
 "nbformat_minor": 5
}
