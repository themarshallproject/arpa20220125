{
 "cells": [
  {
   "cell_type": "code",
   "execution_count": 21,
   "id": "forward-reunion",
   "metadata": {},
   "outputs": [],
   "source": [
    "import requests\n",
    "from bs4 import BeautifulSoup\n",
    "import pandas as pd\n",
    "from xml.sax import ContentHandler, parse\n"
   ]
  },
  {
   "cell_type": "code",
   "execution_count": 2,
   "id": "cutting-holiday",
   "metadata": {},
   "outputs": [],
   "source": [
    "url = \"https://home.treasury.gov/policy-issues/coronavirus/assistance-for-state-local-and-tribal-governments/state-and-local-fiscal-recovery-funds/recovery-plan-performance-reports-2021\"\n",
    "response = requests.get(url)"
   ]
  },
  {
   "cell_type": "code",
   "execution_count": 3,
   "id": "offensive-bridal",
   "metadata": {},
   "outputs": [],
   "source": [
    "soup = BeautifulSoup(response.text, 'html.parser')"
   ]
  },
  {
   "cell_type": "code",
   "execution_count": 5,
   "id": "reflected-administration",
   "metadata": {},
   "outputs": [],
   "source": [
    "table = soup.find_all('table')[0]"
   ]
  },
  {
   "cell_type": "code",
   "execution_count": 14,
   "id": "naked-question",
   "metadata": {},
   "outputs": [],
   "source": [
    "ths = table.find_all('th')\n",
    "headers=['Index']\n",
    "for th in ths[1:]:\n",
    "    headers.append(th.text.strip())"
   ]
  },
  {
   "cell_type": "code",
   "execution_count": 12,
   "id": "extensive-kidney",
   "metadata": {},
   "outputs": [],
   "source": [
    "tbody = table.find('tbody')\n",
    "trs = tbody.find_all('tr')"
   ]
  },
  {
   "cell_type": "code",
   "execution_count": 15,
   "id": "transsexual-brake",
   "metadata": {},
   "outputs": [],
   "source": [
    "table_list = []\n",
    "for tr in trs:\n",
    "    tds = tr.find_all('td')\n",
    "    td_list = []\n",
    "    for (i, td) in enumerate (tds):\n",
    "        if (i == 5):\n",
    "            td_list.append(td.find('a')['href'])\n",
    "        elif (i== 7):\n",
    "            try:\n",
    "                td_list.append(td.find('a')['href'])\n",
    "            except:\n",
    "                pass\n",
    "        else:\n",
    "            td_list.append(td.text)\n",
    "    table_list.append(td_list)\n",
    "\n",
    "df = pd.DataFrame(table_list, columns = headers)"
   ]
  },
  {
   "cell_type": "code",
   "execution_count": 20,
   "id": "trying-differential",
   "metadata": {},
   "outputs": [
    {
     "data": {
      "text/plain": [
       "'https://apps-treas.my.salesforce.com/sfc/p/t0000000TZbC/a/t0000001ell1/HV3pS5E3I2Dnnax8fxWdiEW31mFr5BeNMy2nTGsygfo'"
      ]
     },
     "execution_count": 20,
     "metadata": {},
     "output_type": "execute_result"
    }
   ],
   "source": [
    "df[\"Interim Report\"][0]"
   ]
  },
  {
   "cell_type": "code",
   "execution_count": 61,
   "id": "promotional-realtor",
   "metadata": {},
   "outputs": [],
   "source": [
    "# Reference https://goo.gl/KaOBG3\n",
    "class ExcelHandler(ContentHandler):\n",
    "    def __init__(self):\n",
    "        self.chars = [  ]\n",
    "        self.cells = [  ]\n",
    "        self.rows = [  ]\n",
    "        self.tables = [  ]\n",
    "    def characters(self, content):\n",
    "        self.chars.append(content)\n",
    "    def startElement(self, name, atts):\n",
    "        if name==\"Cell\":\n",
    "            self.chars = [  ]\n",
    "        elif name==\"Row\":\n",
    "            self.cells=[  ]\n",
    "        elif name==\"Table\":\n",
    "            self.rows = [  ]\n",
    "    def endElement(self, name):\n",
    "        if name==\"Cell\":\n",
    "            self.cells.append(''.join(self.chars))\n",
    "        elif name==\"Row\":\n",
    "            self.rows.append(self.cells)\n",
    "        elif name==\"Table\":\n",
    "            self.tables.append(self.rows)\n",
    "\n",
    "excelHandler = ExcelHandler()\n",
    "parse(\"source_data/City Of Austin, Texas Interim Report.xls\", excelHandler)"
   ]
  },
  {
   "cell_type": "code",
   "execution_count": 62,
   "id": "guided-cancer",
   "metadata": {},
   "outputs": [],
   "source": [
    "df1 = pd.DataFrame(excelHandler.tables[0][7:], columns=excelHandler.tables[0][6])"
   ]
  },
  {
   "cell_type": "code",
   "execution_count": 67,
   "id": "valued-priority",
   "metadata": {},
   "outputs": [
    {
     "data": {
      "text/html": [
       "<div>\n",
       "<style scoped>\n",
       "    .dataframe tbody tr th:only-of-type {\n",
       "        vertical-align: middle;\n",
       "    }\n",
       "\n",
       "    .dataframe tbody tr th {\n",
       "        vertical-align: top;\n",
       "    }\n",
       "\n",
       "    .dataframe thead th {\n",
       "        text-align: right;\n",
       "    }\n",
       "</style>\n",
       "<table border=\"1\" class=\"dataframe\">\n",
       "  <thead>\n",
       "    <tr style=\"text-align: right;\">\n",
       "      <th></th>\n",
       "      <th>Category</th>\n",
       "      <th>Cumulative Obligations</th>\n",
       "      <th>Cumulative Expenditures</th>\n",
       "    </tr>\n",
       "  </thead>\n",
       "  <tbody>\n",
       "    <tr>\n",
       "      <th>76</th>\n",
       "      <td>6.1 Provision of Government Services</td>\n",
       "      <td>430145.00</td>\n",
       "      <td>430145.00</td>\n",
       "    </tr>\n",
       "    <tr>\n",
       "      <th>86</th>\n",
       "      <td></td>\n",
       "      <td>430145.00</td>\n",
       "      <td>430145.00</td>\n",
       "    </tr>\n",
       "  </tbody>\n",
       "</table>\n",
       "</div>"
      ],
      "text/plain": [
       "                                Category Cumulative Obligations  \\\n",
       "76  6.1 Provision of Government Services              430145.00   \n",
       "86                                                    430145.00   \n",
       "\n",
       "   Cumulative Expenditures  \n",
       "76               430145.00  \n",
       "86               430145.00  "
      ]
     },
     "execution_count": 67,
     "metadata": {},
     "output_type": "execute_result"
    }
   ],
   "source": [
    "df1[df1[\"Cumulative Obligations\"] == \"430145.00\"]"
   ]
  },
  {
   "cell_type": "code",
   "execution_count": 73,
   "id": "increased-maria",
   "metadata": {},
   "outputs": [
    {
     "data": {
      "text/plain": [
       "Category                                                                                                               7\n",
       "                                                                                                                       4\n",
       "Cumulative Amounts to Date, excluding NEU and Non-UGLG transfers                                                       1\n",
       "7. Expenditure Category: Administrative and Other                                                                      1\n",
       "5.15 Drinking water: Other water infrastructure                                                                        1\n",
       "2.13 Other Economic Support                                                                                            1\n",
       "2.7 Job Training Assistance (e.g., Sectoral job-training, Subsidized Employment, Employment Supports or Incentives)    1\n",
       "7.1 Administrative Expenses                                                                                            1\n",
       "2.2 Household Assistance: Rent, Mortgage, and Utility Aid                                                              1\n",
       "1.10 Mental Health Services                                                                                            1\n",
       "5.4 Clean Water: Combined sewer overflows                                                                              1\n",
       "7.3 Transfers to Other Units of Government                                                                             1\n",
       "2.9 Small Business Economic Assistance (General)                                                                       1\n",
       "5.11 Drinking water: Transmission and distribution                                                                     1\n",
       "2. Expenditure Category: Negative Economic Impacts                                                                     1\n",
       "3.11 Housing Support: Services for Unhoused persons                                                                    1\n",
       "7. Expenditure Category: Recipient Allocation                                                                          1\n",
       "3.10 Housing Support: Affordable Housing                                                                               1\n",
       "6.1 Provision of Government Services                                                                                   1\n",
       "6. Expenditure Category: Revenue Replacement                                                                           1\n",
       "Name: Category, dtype: int64"
      ]
     },
     "execution_count": 73,
     "metadata": {},
     "output_type": "execute_result"
    }
   ],
   "source": [
    "df1[\"Category\"].value_counts().head(20)"
   ]
  },
  {
   "cell_type": "code",
   "execution_count": null,
   "id": "mediterranean-record",
   "metadata": {},
   "outputs": [],
   "source": []
  }
 ],
 "metadata": {
  "kernelspec": {
   "display_name": "Python 3",
   "language": "python",
   "name": "python3"
  },
  "language_info": {
   "codemirror_mode": {
    "name": "ipython",
    "version": 3
   },
   "file_extension": ".py",
   "mimetype": "text/x-python",
   "name": "python",
   "nbconvert_exporter": "python",
   "pygments_lexer": "ipython3",
   "version": "3.9.9"
  }
 },
 "nbformat": 4,
 "nbformat_minor": 5
}
